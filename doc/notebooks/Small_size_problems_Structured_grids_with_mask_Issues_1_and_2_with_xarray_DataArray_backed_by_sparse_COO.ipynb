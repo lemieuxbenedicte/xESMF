{
 "cells": [
  {
   "cell_type": "markdown",
   "metadata": {},
   "source": [
    "# xesmf issues with Small size problems and Structured grids with masks"
   ]
  },
  {
   "cell_type": "markdown",
   "metadata": {},
   "source": [
    "**Quick Description**\n",
    "\n",
    "This notebook is intended to describe issues encountered with package xesmf in the case of structured grid problems with 'bilinear' interpolation method. Tests were conducted on HPC facilities. The xesmf package was installed with conda. The conda binaries (from the conda-forge channel) versions are :\n",
    "\n",
    "- esmf-8.0.1, esmpy-8.0.1\n",
    "- xesmf-0.6.2\n",
    "\n",
    "**More information**\n",
    "\n",
    "\n",
    "The issue arose when performing the computation of the interpolation weights in order to map some source grid data onto a a destination grid defined as 2D-arrays of longitude, latitude and using a **mask**\n",
    "\n",
    "a 'bilinear' intepolation method with extrapolation option (```method='bilinear'``` 'nearest_s2d' )\n",
    "\n",
    "using real data where source and destination grids were provided as xarray.Dataset and defined as 2D-arrays of longitude, latitude and using a **mask**\n",
    "\n",
    "The issue arise when the regridding involves a source and a destination grid both defined with a **mask** as 2D-arrays of longitude, latitude. It arose with *real data* but it is reproduced in this notebook with synthetic grids [prepared with xesmf.util.grid_2d](https://github.com/pangeo-data/xESMF/blob/master/doc/notebooks/Backend.ipynb?). The tested regridding options involve a 'bilinear' intepolation method with extrapolation option and request to save the weights to a netCDF file : (i) ```method='bilinear'``` and ```extrap_method='nearest_s2d'```, (ii) ```weights=None``` and ```reuse_weights=False```, and (iii) ```filename``` set to a string defining a valid path and netCDF name. These options should enable to perform the computation of the interpolation weights (reuse_weights=False and weights=None) and should write the interpolation weights to a netCDF file.\n",
    "\n",
    "This notebook **describes the issues** and **enables to reproduce the errors**. It **provide fixes**.\n",
    "\n",
    "However, the fixes might not be fully statisfying since the **real bottleneck under the hood** is connected to the ```xesmf``` extensive use of ```xarray.DataArray``` or ```xarray.Dataset``` to wrap up the 2D-rectangular matrix of interpolation weights. The **interpolation weight matrix** is **sparse**. It is therefore relevant to represent it as a  **```scipy.sparse``` or ```sparse.COO``` 2D-array** in order to **save memory space**. However, **```xarray``` package does not currently handles sparse array object**. Each time xesmf wraps up the ```sparse.COO``` weight array into an ```xarray.DataArray``` or ```xarray.Dataset```, the sparse object is converted back to a regular ```numpy.ndarray``` **using memory for the full size weight matrix**.\n",
    "\n",
    "Unless ```xarray``` upgrades to handle the sparse object correctly this raises conflicting requirements for the ```xesmf``` packages : (i) being efficient in terms of Memory use, and (ii) on the other hand being a powerful and user-friendly tool handling high-level python package  such as ```xarray``` (and ```dask```).\n",
    "\n",
    "This makes the transition to the second type of issues : **large regridding problem**. This jupyter-notebook is twined with XXX because the issue is a two-fold problems. In the second notebook, we also propose solutions or ***fixes*** in order to coopt with the conflicting requirements.\n",
    "\n",
    "**[Issue 1 and fix](#Issue1)**  \n",
    "\n",
    "1. Loading the [original conda-forge xesmf package](#Loading-the-original-conda-forge-xesmf-package)\n",
    "2. [Preparing the synthetic source and destination grid data](#Reproducing-the-error-with-ad-hoc-synthetic-data) with ```xesmf.util.grid_2d```, *importantly to reproduce the error* [add masks to the synthetic grids](#Creating-the-source-grid-mask).\n",
    "3. Launching the [computation of the interpolation weights](#Triggering-the-computation-of-the-interpolation-weights).\n",
    "4. [Error arising in the regridder](#Regridder-weights-Failure-with-the-original-xesmf-package) : ```AttributeErrorr```.  \n",
    "5. [Regridder Error arising in the smm.py function ```add_nans_to_weights```](#Regridder-Failure-arise-in-the-function-which-replaces-zeros-by-NaNs-for-unmapped-grid-points) line 221, at the end of the instanciation of the BaseRegridder class object which causes the python script to fail.\n",
    "5.[Proposed fix the Issue 1](#Proposed-fix-to-issue-1).\n",
    "\n",
    "**[Issue 2 and fixes](#Issue2)**  \n",
    "\n",
    "1. [Applying the fix to issue1](#Applying-the-fix-to-issue1) by loading a modified xesmf package.\n",
    "2. Using again the source and destination grid+data as applied for Issue 1 experiment.\n",
    "3. Performing again the [computation of the interpolation weights](#Launching-again-the-regridding-with-the-modified-xesmf-package-having-fix-to-issue1)\n",
    "3. [Error arising in the regridder](#Regridder-weights-Failure-with-the-modified-xesmf-package-having-fix-to-issue1): ```AttributeErrorr```\n",
    "4. [Regridder Error arising when saving the weights to a netCDF file](#Regridder-Failure-when-saving-the-weights-to-a-netCDF-file) with the ```Class BaseRegridder``` method ```to_necdf(self,filename=None)```, within the ```frontend.py``` source at line 644.\n",
    "5. [Proposed fix the Issue 2](#Proposed-fix-the-Issue2).\n",
    "6. [Applying the fix to issue2](#Applying-the-fix-to-issue2) by loading [a modified xesmf package](#Loading-the- modified-xesmf-package-with-fix-to-issue1-and-2).\n",
    "7. Performing again the [computation of the interpolation weights with fixes to the Issue1 and Issue2](#Triggering-again-the-computation-of-the-weights-with-fixes-to-issue1-and-2)\n",
    "8. [Regridder success](#Regridder-success-with-fixes-to-issue1-and-2)\n",
    "\n",
    "**[Maps of Regridded data with fixes to issue1 and 2](#Maps-of-Regridded-data-with-fixes-to-issue1-and-2)** \n",
    "\n",
    "**[CONCLUSION AND NEW TESTS AND FIXES WITH LARGE SCALE PROBLEM](#CONCLUSION-AND-NEW-TESTS-AND-FIXES-WITH-LARGE-SCALE-PROBLEM)**"
   ]
  },
  {
   "cell_type": "markdown",
   "metadata": {},
   "source": [
    "\n",
    "I really like the idea of having a wrapper to esmpy/ESMF which enables the use of xarray objects eventhough I ran into several issues/bugs for which I developed my own solutions. \n",
    "\n",
    "These issues are connected to the many possible types of object handled by xesmf backend.py and smm.py. More precisely xarray.DataArray or xarray.Dataset backed by :\n",
    "- either numpy.ndarray or dask.Array for the source and destination grid and data,\n",
    "- scipy.sparse (coo.array or lil_array) or sparse.COO objects for the 2D-rectangular matrix of weights which enable to map the source grid data to the destination grid."
   ]
  },
  {
   "cell_type": "raw",
   "metadata": {},
   "source": [
    "1. [The 1st issue](Small_size_problems_with_structured_grids_Issue1.ipynb#Triggering-the-computation-of-the-interpolation-weights?) I encountered arise into the smm.py funcction add_nans_to_weights line 221 which causes the python script to fail with AttributeError](mall_size_problems_with_structured_grids_Issue1.ipynb?).\n",
    "\n",
    "2. [The 1st issue](Small_size_problems_with_structured_grids_Issue1.ipynb?) I encountered arise into the frontend.py BaseRegridder class line 644 when applying the *to_necdf(self,filename=None)* method within the instanciation method (__init__) at line 341, which causes the python script to fail with XxxxError."
   ]
  },
  {
   "cell_type": "markdown",
   "metadata": {},
   "source": [
    "# Issue1\n",
    "\n",
    "# Loading the original conda-forge xesmf package\n",
    "<!-- Loading-the-original-conda-forge-xesmf-package -->"
   ]
  },
  {
   "cell_type": "code",
   "execution_count": 1,
   "metadata": {},
   "outputs": [],
   "source": [
    "import os\n",
    "import numpy as np\n",
    "import xarray as xr\n",
    "import matplotlib as mpl\n",
    "import matplotlib.pyplot as plt\n",
    "import xesmf as xe"
   ]
  },
  {
   "cell_type": "code",
   "execution_count": 2,
   "metadata": {},
   "outputs": [
    {
     "name": "stdout",
     "output_type": "stream",
     "text": [
      "xesmf  version 0.6.2\n",
      "xarray version 2022.3.0\n",
      "numpy  version 1.20.2\n"
     ]
    }
   ],
   "source": [
    "print('xesmf  version {0}'.format(xe.__version__))\n",
    "print('xarray version {0}'.format(xr.__version__))\n",
    "print('numpy  version {0}'.format(np.__version__))"
   ]
  },
  {
   "cell_type": "code",
   "execution_count": 3,
   "metadata": {},
   "outputs": [
    {
     "name": "stdout",
     "output_type": "stream",
     "text": [
      "scipy  version 1.6.2\n",
      "sparse version 0.3.1\n"
     ]
    }
   ],
   "source": [
    "import scipy\n",
    "import sparse as sps\n",
    "print('scipy  version {0}'.format(scipy.__version__))\n",
    "print('sparse version {0}'.format(sps.__version__))"
   ]
  },
  {
   "cell_type": "markdown",
   "metadata": {},
   "source": [
    "# Reproducing the error with ad hoc synthetic data\n",
    "<!--Reproducing-the-error-with-ad-hoc-synthetic-data-->\n",
    "\n",
    "The demonstration is conducted with data prepared with xesmf.util.grid_2d [as explained in the doc](https://github.com/pangeo-data/xESMF/blob/master/doc/notebooks/Backend.ipynb?)\n",
    "\n",
    "The issue was initially raised using real data where source and destination grids were provided as xarray.Dataset and defined as 2D-arrays of longitude, latitude and using a **mask** (the grid and data arrays were eventually modified to be C-contiguous).\n",
    "\n",
    "Here with reproduce this issue on a smaller problem defined on a limited area with :\n",
    "\n",
    " - the xarray.Dataset ```ds_in``` contains source grid and data,\n",
    " - the xarray.Dataset ```ds_out``` is the destination grid.\n",
    " \n",
    "We need to prepare an ad hoc mask for the input and output grids."
   ]
  },
  {
   "cell_type": "code",
   "execution_count": 4,
   "metadata": {},
   "outputs": [],
   "source": [
    "lonmin, lonmax =  -6., 10. \n",
    "latmin, latmax =  34.5, 45."
   ]
  },
  {
   "cell_type": "code",
   "execution_count": 5,
   "metadata": {},
   "outputs": [],
   "source": [
    "ds_in  = xe.util.grid_2d(lonmin, lonmax, 0.4, latmin, latmax, 0.3) \n",
    "ds_out = xe.util.grid_2d(lonmin, lonmax, 0.6, latmin, latmax, 0.4)"
   ]
  },
  {
   "cell_type": "markdown",
   "metadata": {},
   "source": [
    "## Creating the source grid mask\n",
    "<!--Creating-the-source-grid-mask-->"
   ]
  },
  {
   "cell_type": "code",
   "execution_count": 6,
   "metadata": {
    "scrolled": true
   },
   "outputs": [
    {
     "data": {
      "text/html": [
       "<div><svg style=\"position: absolute; width: 0; height: 0; overflow: hidden\">\n",
       "<defs>\n",
       "<symbol id=\"icon-database\" viewBox=\"0 0 32 32\">\n",
       "<path d=\"M16 0c-8.837 0-16 2.239-16 5v4c0 2.761 7.163 5 16 5s16-2.239 16-5v-4c0-2.761-7.163-5-16-5z\"></path>\n",
       "<path d=\"M16 17c-8.837 0-16-2.239-16-5v6c0 2.761 7.163 5 16 5s16-2.239 16-5v-6c0 2.761-7.163 5-16 5z\"></path>\n",
       "<path d=\"M16 26c-8.837 0-16-2.239-16-5v6c0 2.761 7.163 5 16 5s16-2.239 16-5v-6c0 2.761-7.163 5-16 5z\"></path>\n",
       "</symbol>\n",
       "<symbol id=\"icon-file-text2\" viewBox=\"0 0 32 32\">\n",
       "<path d=\"M28.681 7.159c-0.694-0.947-1.662-2.053-2.724-3.116s-2.169-2.030-3.116-2.724c-1.612-1.182-2.393-1.319-2.841-1.319h-15.5c-1.378 0-2.5 1.121-2.5 2.5v27c0 1.378 1.122 2.5 2.5 2.5h23c1.378 0 2.5-1.122 2.5-2.5v-19.5c0-0.448-0.137-1.23-1.319-2.841zM24.543 5.457c0.959 0.959 1.712 1.825 2.268 2.543h-4.811v-4.811c0.718 0.556 1.584 1.309 2.543 2.268zM28 29.5c0 0.271-0.229 0.5-0.5 0.5h-23c-0.271 0-0.5-0.229-0.5-0.5v-27c0-0.271 0.229-0.5 0.5-0.5 0 0 15.499-0 15.5 0v7c0 0.552 0.448 1 1 1h7v19.5z\"></path>\n",
       "<path d=\"M23 26h-14c-0.552 0-1-0.448-1-1s0.448-1 1-1h14c0.552 0 1 0.448 1 1s-0.448 1-1 1z\"></path>\n",
       "<path d=\"M23 22h-14c-0.552 0-1-0.448-1-1s0.448-1 1-1h14c0.552 0 1 0.448 1 1s-0.448 1-1 1z\"></path>\n",
       "<path d=\"M23 18h-14c-0.552 0-1-0.448-1-1s0.448-1 1-1h14c0.552 0 1 0.448 1 1s-0.448 1-1 1z\"></path>\n",
       "</symbol>\n",
       "</defs>\n",
       "</svg>\n",
       "<style>/* CSS stylesheet for displaying xarray objects in jupyterlab.\n",
       " *\n",
       " */\n",
       "\n",
       ":root {\n",
       "  --xr-font-color0: var(--jp-content-font-color0, rgba(0, 0, 0, 1));\n",
       "  --xr-font-color2: var(--jp-content-font-color2, rgba(0, 0, 0, 0.54));\n",
       "  --xr-font-color3: var(--jp-content-font-color3, rgba(0, 0, 0, 0.38));\n",
       "  --xr-border-color: var(--jp-border-color2, #e0e0e0);\n",
       "  --xr-disabled-color: var(--jp-layout-color3, #bdbdbd);\n",
       "  --xr-background-color: var(--jp-layout-color0, white);\n",
       "  --xr-background-color-row-even: var(--jp-layout-color1, white);\n",
       "  --xr-background-color-row-odd: var(--jp-layout-color2, #eeeeee);\n",
       "}\n",
       "\n",
       "html[theme=dark],\n",
       "body.vscode-dark {\n",
       "  --xr-font-color0: rgba(255, 255, 255, 1);\n",
       "  --xr-font-color2: rgba(255, 255, 255, 0.54);\n",
       "  --xr-font-color3: rgba(255, 255, 255, 0.38);\n",
       "  --xr-border-color: #1F1F1F;\n",
       "  --xr-disabled-color: #515151;\n",
       "  --xr-background-color: #111111;\n",
       "  --xr-background-color-row-even: #111111;\n",
       "  --xr-background-color-row-odd: #313131;\n",
       "}\n",
       "\n",
       ".xr-wrap {\n",
       "  display: block !important;\n",
       "  min-width: 300px;\n",
       "  max-width: 700px;\n",
       "}\n",
       "\n",
       ".xr-text-repr-fallback {\n",
       "  /* fallback to plain text repr when CSS is not injected (untrusted notebook) */\n",
       "  display: none;\n",
       "}\n",
       "\n",
       ".xr-header {\n",
       "  padding-top: 6px;\n",
       "  padding-bottom: 6px;\n",
       "  margin-bottom: 4px;\n",
       "  border-bottom: solid 1px var(--xr-border-color);\n",
       "}\n",
       "\n",
       ".xr-header > div,\n",
       ".xr-header > ul {\n",
       "  display: inline;\n",
       "  margin-top: 0;\n",
       "  margin-bottom: 0;\n",
       "}\n",
       "\n",
       ".xr-obj-type,\n",
       ".xr-array-name {\n",
       "  margin-left: 2px;\n",
       "  margin-right: 10px;\n",
       "}\n",
       "\n",
       ".xr-obj-type {\n",
       "  color: var(--xr-font-color2);\n",
       "}\n",
       "\n",
       ".xr-sections {\n",
       "  padding-left: 0 !important;\n",
       "  display: grid;\n",
       "  grid-template-columns: 150px auto auto 1fr 20px 20px;\n",
       "}\n",
       "\n",
       ".xr-section-item {\n",
       "  display: contents;\n",
       "}\n",
       "\n",
       ".xr-section-item input {\n",
       "  display: none;\n",
       "}\n",
       "\n",
       ".xr-section-item input + label {\n",
       "  color: var(--xr-disabled-color);\n",
       "}\n",
       "\n",
       ".xr-section-item input:enabled + label {\n",
       "  cursor: pointer;\n",
       "  color: var(--xr-font-color2);\n",
       "}\n",
       "\n",
       ".xr-section-item input:enabled + label:hover {\n",
       "  color: var(--xr-font-color0);\n",
       "}\n",
       "\n",
       ".xr-section-summary {\n",
       "  grid-column: 1;\n",
       "  color: var(--xr-font-color2);\n",
       "  font-weight: 500;\n",
       "}\n",
       "\n",
       ".xr-section-summary > span {\n",
       "  display: inline-block;\n",
       "  padding-left: 0.5em;\n",
       "}\n",
       "\n",
       ".xr-section-summary-in:disabled + label {\n",
       "  color: var(--xr-font-color2);\n",
       "}\n",
       "\n",
       ".xr-section-summary-in + label:before {\n",
       "  display: inline-block;\n",
       "  content: '►';\n",
       "  font-size: 11px;\n",
       "  width: 15px;\n",
       "  text-align: center;\n",
       "}\n",
       "\n",
       ".xr-section-summary-in:disabled + label:before {\n",
       "  color: var(--xr-disabled-color);\n",
       "}\n",
       "\n",
       ".xr-section-summary-in:checked + label:before {\n",
       "  content: '▼';\n",
       "}\n",
       "\n",
       ".xr-section-summary-in:checked + label > span {\n",
       "  display: none;\n",
       "}\n",
       "\n",
       ".xr-section-summary,\n",
       ".xr-section-inline-details {\n",
       "  padding-top: 4px;\n",
       "  padding-bottom: 4px;\n",
       "}\n",
       "\n",
       ".xr-section-inline-details {\n",
       "  grid-column: 2 / -1;\n",
       "}\n",
       "\n",
       ".xr-section-details {\n",
       "  display: none;\n",
       "  grid-column: 1 / -1;\n",
       "  margin-bottom: 5px;\n",
       "}\n",
       "\n",
       ".xr-section-summary-in:checked ~ .xr-section-details {\n",
       "  display: contents;\n",
       "}\n",
       "\n",
       ".xr-array-wrap {\n",
       "  grid-column: 1 / -1;\n",
       "  display: grid;\n",
       "  grid-template-columns: 20px auto;\n",
       "}\n",
       "\n",
       ".xr-array-wrap > label {\n",
       "  grid-column: 1;\n",
       "  vertical-align: top;\n",
       "}\n",
       "\n",
       ".xr-preview {\n",
       "  color: var(--xr-font-color3);\n",
       "}\n",
       "\n",
       ".xr-array-preview,\n",
       ".xr-array-data {\n",
       "  padding: 0 5px !important;\n",
       "  grid-column: 2;\n",
       "}\n",
       "\n",
       ".xr-array-data,\n",
       ".xr-array-in:checked ~ .xr-array-preview {\n",
       "  display: none;\n",
       "}\n",
       "\n",
       ".xr-array-in:checked ~ .xr-array-data,\n",
       ".xr-array-preview {\n",
       "  display: inline-block;\n",
       "}\n",
       "\n",
       ".xr-dim-list {\n",
       "  display: inline-block !important;\n",
       "  list-style: none;\n",
       "  padding: 0 !important;\n",
       "  margin: 0;\n",
       "}\n",
       "\n",
       ".xr-dim-list li {\n",
       "  display: inline-block;\n",
       "  padding: 0;\n",
       "  margin: 0;\n",
       "}\n",
       "\n",
       ".xr-dim-list:before {\n",
       "  content: '(';\n",
       "}\n",
       "\n",
       ".xr-dim-list:after {\n",
       "  content: ')';\n",
       "}\n",
       "\n",
       ".xr-dim-list li:not(:last-child):after {\n",
       "  content: ',';\n",
       "  padding-right: 5px;\n",
       "}\n",
       "\n",
       ".xr-has-index {\n",
       "  font-weight: bold;\n",
       "}\n",
       "\n",
       ".xr-var-list,\n",
       ".xr-var-item {\n",
       "  display: contents;\n",
       "}\n",
       "\n",
       ".xr-var-item > div,\n",
       ".xr-var-item label,\n",
       ".xr-var-item > .xr-var-name span {\n",
       "  background-color: var(--xr-background-color-row-even);\n",
       "  margin-bottom: 0;\n",
       "}\n",
       "\n",
       ".xr-var-item > .xr-var-name:hover span {\n",
       "  padding-right: 5px;\n",
       "}\n",
       "\n",
       ".xr-var-list > li:nth-child(odd) > div,\n",
       ".xr-var-list > li:nth-child(odd) > label,\n",
       ".xr-var-list > li:nth-child(odd) > .xr-var-name span {\n",
       "  background-color: var(--xr-background-color-row-odd);\n",
       "}\n",
       "\n",
       ".xr-var-name {\n",
       "  grid-column: 1;\n",
       "}\n",
       "\n",
       ".xr-var-dims {\n",
       "  grid-column: 2;\n",
       "}\n",
       "\n",
       ".xr-var-dtype {\n",
       "  grid-column: 3;\n",
       "  text-align: right;\n",
       "  color: var(--xr-font-color2);\n",
       "}\n",
       "\n",
       ".xr-var-preview {\n",
       "  grid-column: 4;\n",
       "}\n",
       "\n",
       ".xr-var-name,\n",
       ".xr-var-dims,\n",
       ".xr-var-dtype,\n",
       ".xr-preview,\n",
       ".xr-attrs dt {\n",
       "  white-space: nowrap;\n",
       "  overflow: hidden;\n",
       "  text-overflow: ellipsis;\n",
       "  padding-right: 10px;\n",
       "}\n",
       "\n",
       ".xr-var-name:hover,\n",
       ".xr-var-dims:hover,\n",
       ".xr-var-dtype:hover,\n",
       ".xr-attrs dt:hover {\n",
       "  overflow: visible;\n",
       "  width: auto;\n",
       "  z-index: 1;\n",
       "}\n",
       "\n",
       ".xr-var-attrs,\n",
       ".xr-var-data {\n",
       "  display: none;\n",
       "  background-color: var(--xr-background-color) !important;\n",
       "  padding-bottom: 5px !important;\n",
       "}\n",
       "\n",
       ".xr-var-attrs-in:checked ~ .xr-var-attrs,\n",
       ".xr-var-data-in:checked ~ .xr-var-data {\n",
       "  display: block;\n",
       "}\n",
       "\n",
       ".xr-var-data > table {\n",
       "  float: right;\n",
       "}\n",
       "\n",
       ".xr-var-name span,\n",
       ".xr-var-data,\n",
       ".xr-attrs {\n",
       "  padding-left: 25px !important;\n",
       "}\n",
       "\n",
       ".xr-attrs,\n",
       ".xr-var-attrs,\n",
       ".xr-var-data {\n",
       "  grid-column: 1 / -1;\n",
       "}\n",
       "\n",
       "dl.xr-attrs {\n",
       "  padding: 0;\n",
       "  margin: 0;\n",
       "  display: grid;\n",
       "  grid-template-columns: 125px auto;\n",
       "}\n",
       "\n",
       ".xr-attrs dt,\n",
       ".xr-attrs dd {\n",
       "  padding: 0;\n",
       "  margin: 0;\n",
       "  float: left;\n",
       "  padding-right: 10px;\n",
       "  width: auto;\n",
       "}\n",
       "\n",
       ".xr-attrs dt {\n",
       "  font-weight: normal;\n",
       "  grid-column: 1;\n",
       "}\n",
       "\n",
       ".xr-attrs dt:hover span {\n",
       "  display: inline-block;\n",
       "  background: var(--xr-background-color);\n",
       "  padding-right: 10px;\n",
       "}\n",
       "\n",
       ".xr-attrs dd {\n",
       "  grid-column: 2;\n",
       "  white-space: pre-wrap;\n",
       "  word-break: break-all;\n",
       "}\n",
       "\n",
       ".xr-icon-database,\n",
       ".xr-icon-file-text2 {\n",
       "  display: inline-block;\n",
       "  vertical-align: middle;\n",
       "  width: 1em;\n",
       "  height: 1.5em !important;\n",
       "  stroke-width: 0;\n",
       "  stroke: currentColor;\n",
       "  fill: currentColor;\n",
       "}\n",
       "</style><pre class='xr-text-repr-fallback'>&lt;xarray.Dataset&gt;\n",
       "Dimensions:  (y: 35, x: 40, y_b: 36, x_b: 41)\n",
       "Coordinates:\n",
       "    lon      (y, x) float64 -5.8 -5.4 -5.0 -4.6 -4.2 ... 8.2 8.6 9.0 9.4 9.8\n",
       "    lat      (y, x) float64 34.65 34.65 34.65 34.65 ... 44.85 44.85 44.85 44.85\n",
       "    lon_b    (y_b, x_b) float64 -6.0 -5.6 -5.2 -4.8 -4.4 ... 8.8 9.2 9.6 10.0\n",
       "    lat_b    (y_b, x_b) float64 34.5 34.5 34.5 34.5 34.5 ... 45.0 45.0 45.0 45.0\n",
       "Dimensions without coordinates: y, x, y_b, x_b\n",
       "Data variables:\n",
       "    *empty*</pre><div class='xr-wrap' style='display:none'><div class='xr-header'><div class='xr-obj-type'>xarray.Dataset</div></div><ul class='xr-sections'><li class='xr-section-item'><input id='section-ac53578d-4999-40cd-8dbe-0e007b110cde' class='xr-section-summary-in' type='checkbox' disabled ><label for='section-ac53578d-4999-40cd-8dbe-0e007b110cde' class='xr-section-summary'  title='Expand/collapse section'>Dimensions:</label><div class='xr-section-inline-details'><ul class='xr-dim-list'><li><span>y</span>: 35</li><li><span>x</span>: 40</li><li><span>y_b</span>: 36</li><li><span>x_b</span>: 41</li></ul></div><div class='xr-section-details'></div></li><li class='xr-section-item'><input id='section-b7e8caa3-6095-4d61-af6f-497b0f13787e' class='xr-section-summary-in' type='checkbox'  checked><label for='section-b7e8caa3-6095-4d61-af6f-497b0f13787e' class='xr-section-summary' >Coordinates: <span>(4)</span></label><div class='xr-section-inline-details'></div><div class='xr-section-details'><ul class='xr-var-list'><li class='xr-var-item'><div class='xr-var-name'><span>lon</span></div><div class='xr-var-dims'>(y, x)</div><div class='xr-var-dtype'>float64</div><div class='xr-var-preview xr-preview'>-5.8 -5.4 -5.0 -4.6 ... 9.0 9.4 9.8</div><input id='attrs-05aae1d5-832c-473c-b3e8-87a7a67573fe' class='xr-var-attrs-in' type='checkbox' ><label for='attrs-05aae1d5-832c-473c-b3e8-87a7a67573fe' title='Show/Hide attributes'><svg class='icon xr-icon-file-text2'><use xlink:href='#icon-file-text2'></use></svg></label><input id='data-2a072380-0f02-4fd0-a1da-279c4b84cb60' class='xr-var-data-in' type='checkbox'><label for='data-2a072380-0f02-4fd0-a1da-279c4b84cb60' title='Show/Hide data repr'><svg class='icon xr-icon-database'><use xlink:href='#icon-database'></use></svg></label><div class='xr-var-attrs'><dl class='xr-attrs'><dt><span>standard_name :</span></dt><dd>longitude</dd></dl></div><div class='xr-var-data'><pre>array([[-5.8, -5.4, -5. , ...,  9. ,  9.4,  9.8],\n",
       "       [-5.8, -5.4, -5. , ...,  9. ,  9.4,  9.8],\n",
       "       [-5.8, -5.4, -5. , ...,  9. ,  9.4,  9.8],\n",
       "       ...,\n",
       "       [-5.8, -5.4, -5. , ...,  9. ,  9.4,  9.8],\n",
       "       [-5.8, -5.4, -5. , ...,  9. ,  9.4,  9.8],\n",
       "       [-5.8, -5.4, -5. , ...,  9. ,  9.4,  9.8]])</pre></div></li><li class='xr-var-item'><div class='xr-var-name'><span>lat</span></div><div class='xr-var-dims'>(y, x)</div><div class='xr-var-dtype'>float64</div><div class='xr-var-preview xr-preview'>34.65 34.65 34.65 ... 44.85 44.85</div><input id='attrs-be6e0b3a-3e9f-483d-b6e5-317f786f112a' class='xr-var-attrs-in' type='checkbox' ><label for='attrs-be6e0b3a-3e9f-483d-b6e5-317f786f112a' title='Show/Hide attributes'><svg class='icon xr-icon-file-text2'><use xlink:href='#icon-file-text2'></use></svg></label><input id='data-c209cb3e-bec7-4c88-af98-cfa5ca9e65f0' class='xr-var-data-in' type='checkbox'><label for='data-c209cb3e-bec7-4c88-af98-cfa5ca9e65f0' title='Show/Hide data repr'><svg class='icon xr-icon-database'><use xlink:href='#icon-database'></use></svg></label><div class='xr-var-attrs'><dl class='xr-attrs'><dt><span>standard_name :</span></dt><dd>latitude</dd></dl></div><div class='xr-var-data'><pre>array([[34.65, 34.65, 34.65, ..., 34.65, 34.65, 34.65],\n",
       "       [34.95, 34.95, 34.95, ..., 34.95, 34.95, 34.95],\n",
       "       [35.25, 35.25, 35.25, ..., 35.25, 35.25, 35.25],\n",
       "       ...,\n",
       "       [44.25, 44.25, 44.25, ..., 44.25, 44.25, 44.25],\n",
       "       [44.55, 44.55, 44.55, ..., 44.55, 44.55, 44.55],\n",
       "       [44.85, 44.85, 44.85, ..., 44.85, 44.85, 44.85]])</pre></div></li><li class='xr-var-item'><div class='xr-var-name'><span>lon_b</span></div><div class='xr-var-dims'>(y_b, x_b)</div><div class='xr-var-dtype'>float64</div><div class='xr-var-preview xr-preview'>-6.0 -5.6 -5.2 ... 9.2 9.6 10.0</div><input id='attrs-d43d4b7e-1d5e-4723-8e4e-91fcba340b8f' class='xr-var-attrs-in' type='checkbox' disabled><label for='attrs-d43d4b7e-1d5e-4723-8e4e-91fcba340b8f' title='Show/Hide attributes'><svg class='icon xr-icon-file-text2'><use xlink:href='#icon-file-text2'></use></svg></label><input id='data-4e13eeeb-c5ac-4e56-81c1-980c2780ff61' class='xr-var-data-in' type='checkbox'><label for='data-4e13eeeb-c5ac-4e56-81c1-980c2780ff61' title='Show/Hide data repr'><svg class='icon xr-icon-database'><use xlink:href='#icon-database'></use></svg></label><div class='xr-var-attrs'><dl class='xr-attrs'></dl></div><div class='xr-var-data'><pre>array([[-6. , -5.6, -5.2, ...,  9.2,  9.6, 10. ],\n",
       "       [-6. , -5.6, -5.2, ...,  9.2,  9.6, 10. ],\n",
       "       [-6. , -5.6, -5.2, ...,  9.2,  9.6, 10. ],\n",
       "       ...,\n",
       "       [-6. , -5.6, -5.2, ...,  9.2,  9.6, 10. ],\n",
       "       [-6. , -5.6, -5.2, ...,  9.2,  9.6, 10. ],\n",
       "       [-6. , -5.6, -5.2, ...,  9.2,  9.6, 10. ]])</pre></div></li><li class='xr-var-item'><div class='xr-var-name'><span>lat_b</span></div><div class='xr-var-dims'>(y_b, x_b)</div><div class='xr-var-dtype'>float64</div><div class='xr-var-preview xr-preview'>34.5 34.5 34.5 ... 45.0 45.0 45.0</div><input id='attrs-701806bb-c3b6-497f-a522-b3da6fab51f2' class='xr-var-attrs-in' type='checkbox' disabled><label for='attrs-701806bb-c3b6-497f-a522-b3da6fab51f2' title='Show/Hide attributes'><svg class='icon xr-icon-file-text2'><use xlink:href='#icon-file-text2'></use></svg></label><input id='data-793103a7-ea67-4fb3-b576-f0d9b3875bdb' class='xr-var-data-in' type='checkbox'><label for='data-793103a7-ea67-4fb3-b576-f0d9b3875bdb' title='Show/Hide data repr'><svg class='icon xr-icon-database'><use xlink:href='#icon-database'></use></svg></label><div class='xr-var-attrs'><dl class='xr-attrs'></dl></div><div class='xr-var-data'><pre>array([[34.5, 34.5, 34.5, ..., 34.5, 34.5, 34.5],\n",
       "       [34.8, 34.8, 34.8, ..., 34.8, 34.8, 34.8],\n",
       "       [35.1, 35.1, 35.1, ..., 35.1, 35.1, 35.1],\n",
       "       ...,\n",
       "       [44.4, 44.4, 44.4, ..., 44.4, 44.4, 44.4],\n",
       "       [44.7, 44.7, 44.7, ..., 44.7, 44.7, 44.7],\n",
       "       [45. , 45. , 45. , ..., 45. , 45. , 45. ]])</pre></div></li></ul></div></li><li class='xr-section-item'><input id='section-503720a2-3fc0-4a8e-bbbd-35effc4b8983' class='xr-section-summary-in' type='checkbox' disabled ><label for='section-503720a2-3fc0-4a8e-bbbd-35effc4b8983' class='xr-section-summary'  title='Expand/collapse section'>Data variables: <span>(0)</span></label><div class='xr-section-inline-details'></div><div class='xr-section-details'><ul class='xr-var-list'></ul></div></li><li class='xr-section-item'><input id='section-97f25169-4ec7-4cf3-a207-cba00e926130' class='xr-section-summary-in' type='checkbox' disabled ><label for='section-97f25169-4ec7-4cf3-a207-cba00e926130' class='xr-section-summary'  title='Expand/collapse section'>Attributes: <span>(0)</span></label><div class='xr-section-inline-details'></div><div class='xr-section-details'><dl class='xr-attrs'></dl></div></li></ul></div></div>"
      ],
      "text/plain": [
       "<xarray.Dataset>\n",
       "Dimensions:  (y: 35, x: 40, y_b: 36, x_b: 41)\n",
       "Coordinates:\n",
       "    lon      (y, x) float64 -5.8 -5.4 -5.0 -4.6 -4.2 ... 8.2 8.6 9.0 9.4 9.8\n",
       "    lat      (y, x) float64 34.65 34.65 34.65 34.65 ... 44.85 44.85 44.85 44.85\n",
       "    lon_b    (y_b, x_b) float64 -6.0 -5.6 -5.2 -4.8 -4.4 ... 8.8 9.2 9.6 10.0\n",
       "    lat_b    (y_b, x_b) float64 34.5 34.5 34.5 34.5 34.5 ... 45.0 45.0 45.0 45.0\n",
       "Dimensions without coordinates: y, x, y_b, x_b\n",
       "Data variables:\n",
       "    *empty*"
      ]
     },
     "execution_count": 6,
     "metadata": {},
     "output_type": "execute_result"
    }
   ],
   "source": [
    "#= ds_in.assign_coords({'lon': (ds_in['lon'],{'long_name' : 'Longitude', 'units' : 'degree_north'})} )\n",
    "ds_in"
   ]
  },
  {
   "cell_type": "code",
   "execution_count": 7,
   "metadata": {},
   "outputs": [
    {
     "data": {
      "text/plain": [
       "(35, 40)"
      ]
     },
     "execution_count": 7,
     "metadata": {},
     "output_type": "execute_result"
    }
   ],
   "source": [
    "ds_in['mask']=xr.ones_like(ds_in['lon'])\n",
    "ds_in['mask'].data.shape"
   ]
  },
  {
   "cell_type": "code",
   "execution_count": 8,
   "metadata": {},
   "outputs": [],
   "source": [
    "ds_in['mask'].name='mask'\n",
    "ds_in['mask'].data[0:4,:]=0\n",
    "ds_in['mask'].data[:,0:20]=0"
   ]
  },
  {
   "cell_type": "code",
   "execution_count": 9,
   "metadata": {
    "scrolled": true
   },
   "outputs": [
    {
     "data": {
      "text/plain": [
       "<matplotlib.collections.PathCollection at 0x2b74ac3b9580>"
      ]
     },
     "execution_count": 9,
     "metadata": {},
     "output_type": "execute_result"
    },
    {
     "data": {
      "image/png": "[encoded data removed]",
      "text/plain": [
       "<Figure size 432x288 with 2 Axes>"
      ]
     },
     "metadata": {
      "needs_background": "light"
     },
     "output_type": "display_data"
    }
   ],
   "source": [
    "ds_in['mask'].plot(x='lon',y='lat',cmap='binary_r')\n",
    "ax=plt.gca()\n",
    "ax.scatter( ds_in['lon'].where(ds_in['mask']), ds_in['lat'].where(ds_in['mask']), s=0.1)"
   ]
  },
  {
   "cell_type": "markdown",
   "metadata": {},
   "source": [
    "## Source grid and data organized as C-contiguous"
   ]
  },
  {
   "cell_type": "code",
   "execution_count": 10,
   "metadata": {
    "scrolled": true
   },
   "outputs": [
    {
     "data": {
      "text/plain": [
       "  C_CONTIGUOUS : True\n",
       "  F_CONTIGUOUS : False\n",
       "  OWNDATA : True\n",
       "  WRITEABLE : True\n",
       "  ALIGNED : True\n",
       "  WRITEBACKIFCOPY : False\n",
       "  UPDATEIFCOPY : False"
      ]
     },
     "execution_count": 10,
     "metadata": {},
     "output_type": "execute_result"
    }
   ],
   "source": [
    "ds_in[\"lon\"].data.flags"
   ]
  },
  {
   "cell_type": "code",
   "execution_count": 11,
   "metadata": {},
   "outputs": [],
   "source": [
    "ds_in[\"lon\"].values=ds_in[\"lon\"].values.copy(order='F')\n",
    "ds_in[\"lat\"].values=ds_in[\"lat\"].values.copy(order='F')"
   ]
  },
  {
   "cell_type": "code",
   "execution_count": 12,
   "metadata": {
    "scrolled": true
   },
   "outputs": [
    {
     "data": {
      "text/plain": [
       "  C_CONTIGUOUS : False\n",
       "  F_CONTIGUOUS : True\n",
       "  OWNDATA : True\n",
       "  WRITEABLE : True\n",
       "  ALIGNED : True\n",
       "  WRITEBACKIFCOPY : False\n",
       "  UPDATEIFCOPY : False"
      ]
     },
     "execution_count": 12,
     "metadata": {},
     "output_type": "execute_result"
    }
   ],
   "source": [
    "ds_in[\"lon\"].data.flags"
   ]
  },
  {
   "cell_type": "markdown",
   "metadata": {},
   "source": [
    "**Data 2D and 4D : check C-contiguity**"
   ]
  },
  {
   "cell_type": "code",
   "execution_count": 13,
   "metadata": {},
   "outputs": [],
   "source": [
    "#ntimes,nlevs=11,51\n",
    "ntimes,nlevs=2,3\n",
    "ds_in.coords[\"time\"] = np.arange(1, ntimes)\n",
    "ds_in.coords[\"lev\"] = np.arange(1, nlevs)\n",
    "ds_in[\"data2D\"] = xe.data.wave_smooth(ds_in[\"lon\"], ds_in[\"lat\"])\n",
    "ds_in[\"data4D\"] = ds_in[\"time\"] * ds_in[\"lev\"] * ds_in[\"data2D\"]"
   ]
  },
  {
   "cell_type": "code",
   "execution_count": 14,
   "metadata": {},
   "outputs": [
    {
     "data": {
      "text/plain": [
       "  C_CONTIGUOUS : False\n",
       "  F_CONTIGUOUS : True\n",
       "  OWNDATA : True\n",
       "  WRITEABLE : True\n",
       "  ALIGNED : True\n",
       "  WRITEBACKIFCOPY : False\n",
       "  UPDATEIFCOPY : False"
      ]
     },
     "execution_count": 14,
     "metadata": {},
     "output_type": "execute_result"
    }
   ],
   "source": [
    "ds_in[\"data2D\"].values.flags"
   ]
  },
  {
   "cell_type": "markdown",
   "metadata": {},
   "source": [
    "## Creating the destination grid mask"
   ]
  },
  {
   "cell_type": "code",
   "execution_count": 15,
   "metadata": {
    "scrolled": true
   },
   "outputs": [
    {
     "data": {
      "text/html": [
       "<div><svg style=\"position: absolute; width: 0; height: 0; overflow: hidden\">\n",
       "<defs>\n",
       "<symbol id=\"icon-database\" viewBox=\"0 0 32 32\">\n",
       "<path d=\"M16 0c-8.837 0-16 2.239-16 5v4c0 2.761 7.163 5 16 5s16-2.239 16-5v-4c0-2.761-7.163-5-16-5z\"></path>\n",
       "<path d=\"M16 17c-8.837 0-16-2.239-16-5v6c0 2.761 7.163 5 16 5s16-2.239 16-5v-6c0 2.761-7.163 5-16 5z\"></path>\n",
       "<path d=\"M16 26c-8.837 0-16-2.239-16-5v6c0 2.761 7.163 5 16 5s16-2.239 16-5v-6c0 2.761-7.163 5-16 5z\"></path>\n",
       "</symbol>\n",
       "<symbol id=\"icon-file-text2\" viewBox=\"0 0 32 32\">\n",
       "<path d=\"M28.681 7.159c-0.694-0.947-1.662-2.053-2.724-3.116s-2.169-2.030-3.116-2.724c-1.612-1.182-2.393-1.319-2.841-1.319h-15.5c-1.378 0-2.5 1.121-2.5 2.5v27c0 1.378 1.122 2.5 2.5 2.5h23c1.378 0 2.5-1.122 2.5-2.5v-19.5c0-0.448-0.137-1.23-1.319-2.841zM24.543 5.457c0.959 0.959 1.712 1.825 2.268 2.543h-4.811v-4.811c0.718 0.556 1.584 1.309 2.543 2.268zM28 29.5c0 0.271-0.229 0.5-0.5 0.5h-23c-0.271 0-0.5-0.229-0.5-0.5v-27c0-0.271 0.229-0.5 0.5-0.5 0 0 15.499-0 15.5 0v7c0 0.552 0.448 1 1 1h7v19.5z\"></path>\n",
       "<path d=\"M23 26h-14c-0.552 0-1-0.448-1-1s0.448-1 1-1h14c0.552 0 1 0.448 1 1s-0.448 1-1 1z\"></path>\n",
       "<path d=\"M23 22h-14c-0.552 0-1-0.448-1-1s0.448-1 1-1h14c0.552 0 1 0.448 1 1s-0.448 1-1 1z\"></path>\n",
       "<path d=\"M23 18h-14c-0.552 0-1-0.448-1-1s0.448-1 1-1h14c0.552 0 1 0.448 1 1s-0.448 1-1 1z\"></path>\n",
       "</symbol>\n",
       "</defs>\n",
       "</svg>\n",
       "<style>/* CSS stylesheet for displaying xarray objects in jupyterlab.\n",
       " *\n",
       " */\n",
       "\n",
       ":root {\n",
       "  --xr-font-color0: var(--jp-content-font-color0, rgba(0, 0, 0, 1));\n",
       "  --xr-font-color2: var(--jp-content-font-color2, rgba(0, 0, 0, 0.54));\n",
       "  --xr-font-color3: var(--jp-content-font-color3, rgba(0, 0, 0, 0.38));\n",
       "  --xr-border-color: var(--jp-border-color2, #e0e0e0);\n",
       "  --xr-disabled-color: var(--jp-layout-color3, #bdbdbd);\n",
       "  --xr-background-color: var(--jp-layout-color0, white);\n",
       "  --xr-background-color-row-even: var(--jp-layout-color1, white);\n",
       "  --xr-background-color-row-odd: var(--jp-layout-color2, #eeeeee);\n",
       "}\n",
       "\n",
       "html[theme=dark],\n",
       "body.vscode-dark {\n",
       "  --xr-font-color0: rgba(255, 255, 255, 1);\n",
       "  --xr-font-color2: rgba(255, 255, 255, 0.54);\n",
       "  --xr-font-color3: rgba(255, 255, 255, 0.38);\n",
       "  --xr-border-color: #1F1F1F;\n",
       "  --xr-disabled-color: #515151;\n",
       "  --xr-background-color: #111111;\n",
       "  --xr-background-color-row-even: #111111;\n",
       "  --xr-background-color-row-odd: #313131;\n",
       "}\n",
       "\n",
       ".xr-wrap {\n",
       "  display: block !important;\n",
       "  min-width: 300px;\n",
       "  max-width: 700px;\n",
       "}\n",
       "\n",
       ".xr-text-repr-fallback {\n",
       "  /* fallback to plain text repr when CSS is not injected (untrusted notebook) */\n",
       "  display: none;\n",
       "}\n",
       "\n",
       ".xr-header {\n",
       "  padding-top: 6px;\n",
       "  padding-bottom: 6px;\n",
       "  margin-bottom: 4px;\n",
       "  border-bottom: solid 1px var(--xr-border-color);\n",
       "}\n",
       "\n",
       ".xr-header > div,\n",
       ".xr-header > ul {\n",
       "  display: inline;\n",
       "  margin-top: 0;\n",
       "  margin-bottom: 0;\n",
       "}\n",
       "\n",
       ".xr-obj-type,\n",
       ".xr-array-name {\n",
       "  margin-left: 2px;\n",
       "  margin-right: 10px;\n",
       "}\n",
       "\n",
       ".xr-obj-type {\n",
       "  color: var(--xr-font-color2);\n",
       "}\n",
       "\n",
       ".xr-sections {\n",
       "  padding-left: 0 !important;\n",
       "  display: grid;\n",
       "  grid-template-columns: 150px auto auto 1fr 20px 20px;\n",
       "}\n",
       "\n",
       ".xr-section-item {\n",
       "  display: contents;\n",
       "}\n",
       "\n",
       ".xr-section-item input {\n",
       "  display: none;\n",
       "}\n",
       "\n",
       ".xr-section-item input + label {\n",
       "  color: var(--xr-disabled-color);\n",
       "}\n",
       "\n",
       ".xr-section-item input:enabled + label {\n",
       "  cursor: pointer;\n",
       "  color: var(--xr-font-color2);\n",
       "}\n",
       "\n",
       ".xr-section-item input:enabled + label:hover {\n",
       "  color: var(--xr-font-color0);\n",
       "}\n",
       "\n",
       ".xr-section-summary {\n",
       "  grid-column: 1;\n",
       "  color: var(--xr-font-color2);\n",
       "  font-weight: 500;\n",
       "}\n",
       "\n",
       ".xr-section-summary > span {\n",
       "  display: inline-block;\n",
       "  padding-left: 0.5em;\n",
       "}\n",
       "\n",
       ".xr-section-summary-in:disabled + label {\n",
       "  color: var(--xr-font-color2);\n",
       "}\n",
       "\n",
       ".xr-section-summary-in + label:before {\n",
       "  display: inline-block;\n",
       "  content: '►';\n",
       "  font-size: 11px;\n",
       "  width: 15px;\n",
       "  text-align: center;\n",
       "}\n",
       "\n",
       ".xr-section-summary-in:disabled + label:before {\n",
       "  color: var(--xr-disabled-color);\n",
       "}\n",
       "\n",
       ".xr-section-summary-in:checked + label:before {\n",
       "  content: '▼';\n",
       "}\n",
       "\n",
       ".xr-section-summary-in:checked + label > span {\n",
       "  display: none;\n",
       "}\n",
       "\n",
       ".xr-section-summary,\n",
       ".xr-section-inline-details {\n",
       "  padding-top: 4px;\n",
       "  padding-bottom: 4px;\n",
       "}\n",
       "\n",
       ".xr-section-inline-details {\n",
       "  grid-column: 2 / -1;\n",
       "}\n",
       "\n",
       ".xr-section-details {\n",
       "  display: none;\n",
       "  grid-column: 1 / -1;\n",
       "  margin-bottom: 5px;\n",
       "}\n",
       "\n",
       ".xr-section-summary-in:checked ~ .xr-section-details {\n",
       "  display: contents;\n",
       "}\n",
       "\n",
       ".xr-array-wrap {\n",
       "  grid-column: 1 / -1;\n",
       "  display: grid;\n",
       "  grid-template-columns: 20px auto;\n",
       "}\n",
       "\n",
       ".xr-array-wrap > label {\n",
       "  grid-column: 1;\n",
       "  vertical-align: top;\n",
       "}\n",
       "\n",
       ".xr-preview {\n",
       "  color: var(--xr-font-color3);\n",
       "}\n",
       "\n",
       ".xr-array-preview,\n",
       ".xr-array-data {\n",
       "  padding: 0 5px !important;\n",
       "  grid-column: 2;\n",
       "}\n",
       "\n",
       ".xr-array-data,\n",
       ".xr-array-in:checked ~ .xr-array-preview {\n",
       "  display: none;\n",
       "}\n",
       "\n",
       ".xr-array-in:checked ~ .xr-array-data,\n",
       ".xr-array-preview {\n",
       "  display: inline-block;\n",
       "}\n",
       "\n",
       ".xr-dim-list {\n",
       "  display: inline-block !important;\n",
       "  list-style: none;\n",
       "  padding: 0 !important;\n",
       "  margin: 0;\n",
       "}\n",
       "\n",
       ".xr-dim-list li {\n",
       "  display: inline-block;\n",
       "  padding: 0;\n",
       "  margin: 0;\n",
       "}\n",
       "\n",
       ".xr-dim-list:before {\n",
       "  content: '(';\n",
       "}\n",
       "\n",
       ".xr-dim-list:after {\n",
       "  content: ')';\n",
       "}\n",
       "\n",
       ".xr-dim-list li:not(:last-child):after {\n",
       "  content: ',';\n",
       "  padding-right: 5px;\n",
       "}\n",
       "\n",
       ".xr-has-index {\n",
       "  font-weight: bold;\n",
       "}\n",
       "\n",
       ".xr-var-list,\n",
       ".xr-var-item {\n",
       "  display: contents;\n",
       "}\n",
       "\n",
       ".xr-var-item > div,\n",
       ".xr-var-item label,\n",
       ".xr-var-item > .xr-var-name span {\n",
       "  background-color: var(--xr-background-color-row-even);\n",
       "  margin-bottom: 0;\n",
       "}\n",
       "\n",
       ".xr-var-item > .xr-var-name:hover span {\n",
       "  padding-right: 5px;\n",
       "}\n",
       "\n",
       ".xr-var-list > li:nth-child(odd) > div,\n",
       ".xr-var-list > li:nth-child(odd) > label,\n",
       ".xr-var-list > li:nth-child(odd) > .xr-var-name span {\n",
       "  background-color: var(--xr-background-color-row-odd);\n",
       "}\n",
       "\n",
       ".xr-var-name {\n",
       "  grid-column: 1;\n",
       "}\n",
       "\n",
       ".xr-var-dims {\n",
       "  grid-column: 2;\n",
       "}\n",
       "\n",
       ".xr-var-dtype {\n",
       "  grid-column: 3;\n",
       "  text-align: right;\n",
       "  color: var(--xr-font-color2);\n",
       "}\n",
       "\n",
       ".xr-var-preview {\n",
       "  grid-column: 4;\n",
       "}\n",
       "\n",
       ".xr-var-name,\n",
       ".xr-var-dims,\n",
       ".xr-var-dtype,\n",
       ".xr-preview,\n",
       ".xr-attrs dt {\n",
       "  white-space: nowrap;\n",
       "  overflow: hidden;\n",
       "  text-overflow: ellipsis;\n",
       "  padding-right: 10px;\n",
       "}\n",
       "\n",
       ".xr-var-name:hover,\n",
       ".xr-var-dims:hover,\n",
       ".xr-var-dtype:hover,\n",
       ".xr-attrs dt:hover {\n",
       "  overflow: visible;\n",
       "  width: auto;\n",
       "  z-index: 1;\n",
       "}\n",
       "\n",
       ".xr-var-attrs,\n",
       ".xr-var-data {\n",
       "  display: none;\n",
       "  background-color: var(--xr-background-color) !important;\n",
       "  padding-bottom: 5px !important;\n",
       "}\n",
       "\n",
       ".xr-var-attrs-in:checked ~ .xr-var-attrs,\n",
       ".xr-var-data-in:checked ~ .xr-var-data {\n",
       "  display: block;\n",
       "}\n",
       "\n",
       ".xr-var-data > table {\n",
       "  float: right;\n",
       "}\n",
       "\n",
       ".xr-var-name span,\n",
       ".xr-var-data,\n",
       ".xr-attrs {\n",
       "  padding-left: 25px !important;\n",
       "}\n",
       "\n",
       ".xr-attrs,\n",
       ".xr-var-attrs,\n",
       ".xr-var-data {\n",
       "  grid-column: 1 / -1;\n",
       "}\n",
       "\n",
       "dl.xr-attrs {\n",
       "  padding: 0;\n",
       "  margin: 0;\n",
       "  display: grid;\n",
       "  grid-template-columns: 125px auto;\n",
       "}\n",
       "\n",
       ".xr-attrs dt,\n",
       ".xr-attrs dd {\n",
       "  padding: 0;\n",
       "  margin: 0;\n",
       "  float: left;\n",
       "  padding-right: 10px;\n",
       "  width: auto;\n",
       "}\n",
       "\n",
       ".xr-attrs dt {\n",
       "  font-weight: normal;\n",
       "  grid-column: 1;\n",
       "}\n",
       "\n",
       ".xr-attrs dt:hover span {\n",
       "  display: inline-block;\n",
       "  background: var(--xr-background-color);\n",
       "  padding-right: 10px;\n",
       "}\n",
       "\n",
       ".xr-attrs dd {\n",
       "  grid-column: 2;\n",
       "  white-space: pre-wrap;\n",
       "  word-break: break-all;\n",
       "}\n",
       "\n",
       ".xr-icon-database,\n",
       ".xr-icon-file-text2 {\n",
       "  display: inline-block;\n",
       "  vertical-align: middle;\n",
       "  width: 1em;\n",
       "  height: 1.5em !important;\n",
       "  stroke-width: 0;\n",
       "  stroke: currentColor;\n",
       "  fill: currentColor;\n",
       "}\n",
       "</style><pre class='xr-text-repr-fallback'>&lt;xarray.Dataset&gt;\n",
       "Dimensions:  (y: 27, x: 27, y_b: 28, x_b: 28)\n",
       "Coordinates:\n",
       "    lon      (y, x) float64 -5.7 -5.1 -4.5 -3.9 -3.3 ... 7.5 8.1 8.7 9.3 9.9\n",
       "    lat      (y, x) float64 34.7 34.7 34.7 34.7 34.7 ... 45.1 45.1 45.1 45.1\n",
       "    lon_b    (y_b, x_b) float64 -6.0 -5.4 -4.8 -4.2 -3.6 ... 8.4 9.0 9.6 10.2\n",
       "    lat_b    (y_b, x_b) float64 34.5 34.5 34.5 34.5 34.5 ... 45.3 45.3 45.3 45.3\n",
       "Dimensions without coordinates: y, x, y_b, x_b\n",
       "Data variables:\n",
       "    *empty*</pre><div class='xr-wrap' style='display:none'><div class='xr-header'><div class='xr-obj-type'>xarray.Dataset</div></div><ul class='xr-sections'><li class='xr-section-item'><input id='section-3f0eb33d-a3b0-4deb-aeea-d7feb184482c' class='xr-section-summary-in' type='checkbox' disabled ><label for='section-3f0eb33d-a3b0-4deb-aeea-d7feb184482c' class='xr-section-summary'  title='Expand/collapse section'>Dimensions:</label><div class='xr-section-inline-details'><ul class='xr-dim-list'><li><span>y</span>: 27</li><li><span>x</span>: 27</li><li><span>y_b</span>: 28</li><li><span>x_b</span>: 28</li></ul></div><div class='xr-section-details'></div></li><li class='xr-section-item'><input id='section-cc05095f-b177-4943-9cd9-807a7129ef30' class='xr-section-summary-in' type='checkbox'  checked><label for='section-cc05095f-b177-4943-9cd9-807a7129ef30' class='xr-section-summary' >Coordinates: <span>(4)</span></label><div class='xr-section-inline-details'></div><div class='xr-section-details'><ul class='xr-var-list'><li class='xr-var-item'><div class='xr-var-name'><span>lon</span></div><div class='xr-var-dims'>(y, x)</div><div class='xr-var-dtype'>float64</div><div class='xr-var-preview xr-preview'>-5.7 -5.1 -4.5 -3.9 ... 8.7 9.3 9.9</div><input id='attrs-4f9393a5-d475-47af-981f-4e5f9b99ce1c' class='xr-var-attrs-in' type='checkbox' ><label for='attrs-4f9393a5-d475-47af-981f-4e5f9b99ce1c' title='Show/Hide attributes'><svg class='icon xr-icon-file-text2'><use xlink:href='#icon-file-text2'></use></svg></label><input id='data-1d425ecd-bfb3-4bb0-a619-c21f53c88185' class='xr-var-data-in' type='checkbox'><label for='data-1d425ecd-bfb3-4bb0-a619-c21f53c88185' title='Show/Hide data repr'><svg class='icon xr-icon-database'><use xlink:href='#icon-database'></use></svg></label><div class='xr-var-attrs'><dl class='xr-attrs'><dt><span>standard_name :</span></dt><dd>longitude</dd></dl></div><div class='xr-var-data'><pre>array([[-5.7, -5.1, -4.5, -3.9, -3.3, -2.7, -2.1, -1.5, -0.9, -0.3,  0.3,\n",
       "         0.9,  1.5,  2.1,  2.7,  3.3,  3.9,  4.5,  5.1,  5.7,  6.3,  6.9,\n",
       "         7.5,  8.1,  8.7,  9.3,  9.9],\n",
       "       [-5.7, -5.1, -4.5, -3.9, -3.3, -2.7, -2.1, -1.5, -0.9, -0.3,  0.3,\n",
       "         0.9,  1.5,  2.1,  2.7,  3.3,  3.9,  4.5,  5.1,  5.7,  6.3,  6.9,\n",
       "         7.5,  8.1,  8.7,  9.3,  9.9],\n",
       "       [-5.7, -5.1, -4.5, -3.9, -3.3, -2.7, -2.1, -1.5, -0.9, -0.3,  0.3,\n",
       "         0.9,  1.5,  2.1,  2.7,  3.3,  3.9,  4.5,  5.1,  5.7,  6.3,  6.9,\n",
       "         7.5,  8.1,  8.7,  9.3,  9.9],\n",
       "       [-5.7, -5.1, -4.5, -3.9, -3.3, -2.7, -2.1, -1.5, -0.9, -0.3,  0.3,\n",
       "         0.9,  1.5,  2.1,  2.7,  3.3,  3.9,  4.5,  5.1,  5.7,  6.3,  6.9,\n",
       "         7.5,  8.1,  8.7,  9.3,  9.9],\n",
       "       [-5.7, -5.1, -4.5, -3.9, -3.3, -2.7, -2.1, -1.5, -0.9, -0.3,  0.3,\n",
       "         0.9,  1.5,  2.1,  2.7,  3.3,  3.9,  4.5,  5.1,  5.7,  6.3,  6.9,\n",
       "         7.5,  8.1,  8.7,  9.3,  9.9],\n",
       "       [-5.7, -5.1, -4.5, -3.9, -3.3, -2.7, -2.1, -1.5, -0.9, -0.3,  0.3,\n",
       "         0.9,  1.5,  2.1,  2.7,  3.3,  3.9,  4.5,  5.1,  5.7,  6.3,  6.9,\n",
       "         7.5,  8.1,  8.7,  9.3,  9.9],\n",
       "       [-5.7, -5.1, -4.5, -3.9, -3.3, -2.7, -2.1, -1.5, -0.9, -0.3,  0.3,\n",
       "         0.9,  1.5,  2.1,  2.7,  3.3,  3.9,  4.5,  5.1,  5.7,  6.3,  6.9,\n",
       "...\n",
       "         0.9,  1.5,  2.1,  2.7,  3.3,  3.9,  4.5,  5.1,  5.7,  6.3,  6.9,\n",
       "         7.5,  8.1,  8.7,  9.3,  9.9],\n",
       "       [-5.7, -5.1, -4.5, -3.9, -3.3, -2.7, -2.1, -1.5, -0.9, -0.3,  0.3,\n",
       "         0.9,  1.5,  2.1,  2.7,  3.3,  3.9,  4.5,  5.1,  5.7,  6.3,  6.9,\n",
       "         7.5,  8.1,  8.7,  9.3,  9.9],\n",
       "       [-5.7, -5.1, -4.5, -3.9, -3.3, -2.7, -2.1, -1.5, -0.9, -0.3,  0.3,\n",
       "         0.9,  1.5,  2.1,  2.7,  3.3,  3.9,  4.5,  5.1,  5.7,  6.3,  6.9,\n",
       "         7.5,  8.1,  8.7,  9.3,  9.9],\n",
       "       [-5.7, -5.1, -4.5, -3.9, -3.3, -2.7, -2.1, -1.5, -0.9, -0.3,  0.3,\n",
       "         0.9,  1.5,  2.1,  2.7,  3.3,  3.9,  4.5,  5.1,  5.7,  6.3,  6.9,\n",
       "         7.5,  8.1,  8.7,  9.3,  9.9],\n",
       "       [-5.7, -5.1, -4.5, -3.9, -3.3, -2.7, -2.1, -1.5, -0.9, -0.3,  0.3,\n",
       "         0.9,  1.5,  2.1,  2.7,  3.3,  3.9,  4.5,  5.1,  5.7,  6.3,  6.9,\n",
       "         7.5,  8.1,  8.7,  9.3,  9.9],\n",
       "       [-5.7, -5.1, -4.5, -3.9, -3.3, -2.7, -2.1, -1.5, -0.9, -0.3,  0.3,\n",
       "         0.9,  1.5,  2.1,  2.7,  3.3,  3.9,  4.5,  5.1,  5.7,  6.3,  6.9,\n",
       "         7.5,  8.1,  8.7,  9.3,  9.9],\n",
       "       [-5.7, -5.1, -4.5, -3.9, -3.3, -2.7, -2.1, -1.5, -0.9, -0.3,  0.3,\n",
       "         0.9,  1.5,  2.1,  2.7,  3.3,  3.9,  4.5,  5.1,  5.7,  6.3,  6.9,\n",
       "         7.5,  8.1,  8.7,  9.3,  9.9]])</pre></div></li><li class='xr-var-item'><div class='xr-var-name'><span>lat</span></div><div class='xr-var-dims'>(y, x)</div><div class='xr-var-dtype'>float64</div><div class='xr-var-preview xr-preview'>34.7 34.7 34.7 ... 45.1 45.1 45.1</div><input id='attrs-68223450-06da-454c-a2ff-0c11044de2b9' class='xr-var-attrs-in' type='checkbox' ><label for='attrs-68223450-06da-454c-a2ff-0c11044de2b9' title='Show/Hide attributes'><svg class='icon xr-icon-file-text2'><use xlink:href='#icon-file-text2'></use></svg></label><input id='data-64e079d7-59c3-4fee-8f0a-f73f7785badb' class='xr-var-data-in' type='checkbox'><label for='data-64e079d7-59c3-4fee-8f0a-f73f7785badb' title='Show/Hide data repr'><svg class='icon xr-icon-database'><use xlink:href='#icon-database'></use></svg></label><div class='xr-var-attrs'><dl class='xr-attrs'><dt><span>standard_name :</span></dt><dd>latitude</dd></dl></div><div class='xr-var-data'><pre>array([[34.7, 34.7, 34.7, 34.7, 34.7, 34.7, 34.7, 34.7, 34.7, 34.7, 34.7,\n",
       "        34.7, 34.7, 34.7, 34.7, 34.7, 34.7, 34.7, 34.7, 34.7, 34.7, 34.7,\n",
       "        34.7, 34.7, 34.7, 34.7, 34.7],\n",
       "       [35.1, 35.1, 35.1, 35.1, 35.1, 35.1, 35.1, 35.1, 35.1, 35.1, 35.1,\n",
       "        35.1, 35.1, 35.1, 35.1, 35.1, 35.1, 35.1, 35.1, 35.1, 35.1, 35.1,\n",
       "        35.1, 35.1, 35.1, 35.1, 35.1],\n",
       "       [35.5, 35.5, 35.5, 35.5, 35.5, 35.5, 35.5, 35.5, 35.5, 35.5, 35.5,\n",
       "        35.5, 35.5, 35.5, 35.5, 35.5, 35.5, 35.5, 35.5, 35.5, 35.5, 35.5,\n",
       "        35.5, 35.5, 35.5, 35.5, 35.5],\n",
       "       [35.9, 35.9, 35.9, 35.9, 35.9, 35.9, 35.9, 35.9, 35.9, 35.9, 35.9,\n",
       "        35.9, 35.9, 35.9, 35.9, 35.9, 35.9, 35.9, 35.9, 35.9, 35.9, 35.9,\n",
       "        35.9, 35.9, 35.9, 35.9, 35.9],\n",
       "       [36.3, 36.3, 36.3, 36.3, 36.3, 36.3, 36.3, 36.3, 36.3, 36.3, 36.3,\n",
       "        36.3, 36.3, 36.3, 36.3, 36.3, 36.3, 36.3, 36.3, 36.3, 36.3, 36.3,\n",
       "        36.3, 36.3, 36.3, 36.3, 36.3],\n",
       "       [36.7, 36.7, 36.7, 36.7, 36.7, 36.7, 36.7, 36.7, 36.7, 36.7, 36.7,\n",
       "        36.7, 36.7, 36.7, 36.7, 36.7, 36.7, 36.7, 36.7, 36.7, 36.7, 36.7,\n",
       "        36.7, 36.7, 36.7, 36.7, 36.7],\n",
       "       [37.1, 37.1, 37.1, 37.1, 37.1, 37.1, 37.1, 37.1, 37.1, 37.1, 37.1,\n",
       "        37.1, 37.1, 37.1, 37.1, 37.1, 37.1, 37.1, 37.1, 37.1, 37.1, 37.1,\n",
       "...\n",
       "        42.7, 42.7, 42.7, 42.7, 42.7, 42.7, 42.7, 42.7, 42.7, 42.7, 42.7,\n",
       "        42.7, 42.7, 42.7, 42.7, 42.7],\n",
       "       [43.1, 43.1, 43.1, 43.1, 43.1, 43.1, 43.1, 43.1, 43.1, 43.1, 43.1,\n",
       "        43.1, 43.1, 43.1, 43.1, 43.1, 43.1, 43.1, 43.1, 43.1, 43.1, 43.1,\n",
       "        43.1, 43.1, 43.1, 43.1, 43.1],\n",
       "       [43.5, 43.5, 43.5, 43.5, 43.5, 43.5, 43.5, 43.5, 43.5, 43.5, 43.5,\n",
       "        43.5, 43.5, 43.5, 43.5, 43.5, 43.5, 43.5, 43.5, 43.5, 43.5, 43.5,\n",
       "        43.5, 43.5, 43.5, 43.5, 43.5],\n",
       "       [43.9, 43.9, 43.9, 43.9, 43.9, 43.9, 43.9, 43.9, 43.9, 43.9, 43.9,\n",
       "        43.9, 43.9, 43.9, 43.9, 43.9, 43.9, 43.9, 43.9, 43.9, 43.9, 43.9,\n",
       "        43.9, 43.9, 43.9, 43.9, 43.9],\n",
       "       [44.3, 44.3, 44.3, 44.3, 44.3, 44.3, 44.3, 44.3, 44.3, 44.3, 44.3,\n",
       "        44.3, 44.3, 44.3, 44.3, 44.3, 44.3, 44.3, 44.3, 44.3, 44.3, 44.3,\n",
       "        44.3, 44.3, 44.3, 44.3, 44.3],\n",
       "       [44.7, 44.7, 44.7, 44.7, 44.7, 44.7, 44.7, 44.7, 44.7, 44.7, 44.7,\n",
       "        44.7, 44.7, 44.7, 44.7, 44.7, 44.7, 44.7, 44.7, 44.7, 44.7, 44.7,\n",
       "        44.7, 44.7, 44.7, 44.7, 44.7],\n",
       "       [45.1, 45.1, 45.1, 45.1, 45.1, 45.1, 45.1, 45.1, 45.1, 45.1, 45.1,\n",
       "        45.1, 45.1, 45.1, 45.1, 45.1, 45.1, 45.1, 45.1, 45.1, 45.1, 45.1,\n",
       "        45.1, 45.1, 45.1, 45.1, 45.1]])</pre></div></li><li class='xr-var-item'><div class='xr-var-name'><span>lon_b</span></div><div class='xr-var-dims'>(y_b, x_b)</div><div class='xr-var-dtype'>float64</div><div class='xr-var-preview xr-preview'>-6.0 -5.4 -4.8 ... 9.0 9.6 10.2</div><input id='attrs-c54f8f83-7201-4e37-83a0-43e597c952ad' class='xr-var-attrs-in' type='checkbox' disabled><label for='attrs-c54f8f83-7201-4e37-83a0-43e597c952ad' title='Show/Hide attributes'><svg class='icon xr-icon-file-text2'><use xlink:href='#icon-file-text2'></use></svg></label><input id='data-c6ab3850-d3e3-46da-9eca-145e158cc3d0' class='xr-var-data-in' type='checkbox'><label for='data-c6ab3850-d3e3-46da-9eca-145e158cc3d0' title='Show/Hide data repr'><svg class='icon xr-icon-database'><use xlink:href='#icon-database'></use></svg></label><div class='xr-var-attrs'><dl class='xr-attrs'></dl></div><div class='xr-var-data'><pre>array([[-6.00000000e+00, -5.40000000e+00, -4.80000000e+00,\n",
       "        -4.20000000e+00, -3.60000000e+00, -3.00000000e+00,\n",
       "        -2.40000000e+00, -1.80000000e+00, -1.20000000e+00,\n",
       "        -6.00000000e-01, -3.55271368e-15,  6.00000000e-01,\n",
       "         1.20000000e+00,  1.80000000e+00,  2.40000000e+00,\n",
       "         3.00000000e+00,  3.60000000e+00,  4.20000000e+00,\n",
       "         4.80000000e+00,  5.40000000e+00,  6.00000000e+00,\n",
       "         6.60000000e+00,  7.20000000e+00,  7.80000000e+00,\n",
       "         8.40000000e+00,  9.00000000e+00,  9.60000000e+00,\n",
       "         1.02000000e+01],\n",
       "       [-6.00000000e+00, -5.40000000e+00, -4.80000000e+00,\n",
       "        -4.20000000e+00, -3.60000000e+00, -3.00000000e+00,\n",
       "        -2.40000000e+00, -1.80000000e+00, -1.20000000e+00,\n",
       "        -6.00000000e-01, -3.55271368e-15,  6.00000000e-01,\n",
       "         1.20000000e+00,  1.80000000e+00,  2.40000000e+00,\n",
       "         3.00000000e+00,  3.60000000e+00,  4.20000000e+00,\n",
       "         4.80000000e+00,  5.40000000e+00,  6.00000000e+00,\n",
       "         6.60000000e+00,  7.20000000e+00,  7.80000000e+00,\n",
       "         8.40000000e+00,  9.00000000e+00,  9.60000000e+00,\n",
       "         1.02000000e+01],\n",
       "...\n",
       "       [-6.00000000e+00, -5.40000000e+00, -4.80000000e+00,\n",
       "        -4.20000000e+00, -3.60000000e+00, -3.00000000e+00,\n",
       "        -2.40000000e+00, -1.80000000e+00, -1.20000000e+00,\n",
       "        -6.00000000e-01, -3.55271368e-15,  6.00000000e-01,\n",
       "         1.20000000e+00,  1.80000000e+00,  2.40000000e+00,\n",
       "         3.00000000e+00,  3.60000000e+00,  4.20000000e+00,\n",
       "         4.80000000e+00,  5.40000000e+00,  6.00000000e+00,\n",
       "         6.60000000e+00,  7.20000000e+00,  7.80000000e+00,\n",
       "         8.40000000e+00,  9.00000000e+00,  9.60000000e+00,\n",
       "         1.02000000e+01],\n",
       "       [-6.00000000e+00, -5.40000000e+00, -4.80000000e+00,\n",
       "        -4.20000000e+00, -3.60000000e+00, -3.00000000e+00,\n",
       "        -2.40000000e+00, -1.80000000e+00, -1.20000000e+00,\n",
       "        -6.00000000e-01, -3.55271368e-15,  6.00000000e-01,\n",
       "         1.20000000e+00,  1.80000000e+00,  2.40000000e+00,\n",
       "         3.00000000e+00,  3.60000000e+00,  4.20000000e+00,\n",
       "         4.80000000e+00,  5.40000000e+00,  6.00000000e+00,\n",
       "         6.60000000e+00,  7.20000000e+00,  7.80000000e+00,\n",
       "         8.40000000e+00,  9.00000000e+00,  9.60000000e+00,\n",
       "         1.02000000e+01]])</pre></div></li><li class='xr-var-item'><div class='xr-var-name'><span>lat_b</span></div><div class='xr-var-dims'>(y_b, x_b)</div><div class='xr-var-dtype'>float64</div><div class='xr-var-preview xr-preview'>34.5 34.5 34.5 ... 45.3 45.3 45.3</div><input id='attrs-d663db24-a7ab-493a-a451-3b1e391cf2f4' class='xr-var-attrs-in' type='checkbox' disabled><label for='attrs-d663db24-a7ab-493a-a451-3b1e391cf2f4' title='Show/Hide attributes'><svg class='icon xr-icon-file-text2'><use xlink:href='#icon-file-text2'></use></svg></label><input id='data-d800e8b4-5251-475d-9eb5-fab617679bd6' class='xr-var-data-in' type='checkbox'><label for='data-d800e8b4-5251-475d-9eb5-fab617679bd6' title='Show/Hide data repr'><svg class='icon xr-icon-database'><use xlink:href='#icon-database'></use></svg></label><div class='xr-var-attrs'><dl class='xr-attrs'></dl></div><div class='xr-var-data'><pre>array([[34.5, 34.5, 34.5, 34.5, 34.5, 34.5, 34.5, 34.5, 34.5, 34.5, 34.5,\n",
       "        34.5, 34.5, 34.5, 34.5, 34.5, 34.5, 34.5, 34.5, 34.5, 34.5, 34.5,\n",
       "        34.5, 34.5, 34.5, 34.5, 34.5, 34.5],\n",
       "       [34.9, 34.9, 34.9, 34.9, 34.9, 34.9, 34.9, 34.9, 34.9, 34.9, 34.9,\n",
       "        34.9, 34.9, 34.9, 34.9, 34.9, 34.9, 34.9, 34.9, 34.9, 34.9, 34.9,\n",
       "        34.9, 34.9, 34.9, 34.9, 34.9, 34.9],\n",
       "       [35.3, 35.3, 35.3, 35.3, 35.3, 35.3, 35.3, 35.3, 35.3, 35.3, 35.3,\n",
       "        35.3, 35.3, 35.3, 35.3, 35.3, 35.3, 35.3, 35.3, 35.3, 35.3, 35.3,\n",
       "        35.3, 35.3, 35.3, 35.3, 35.3, 35.3],\n",
       "       [35.7, 35.7, 35.7, 35.7, 35.7, 35.7, 35.7, 35.7, 35.7, 35.7, 35.7,\n",
       "        35.7, 35.7, 35.7, 35.7, 35.7, 35.7, 35.7, 35.7, 35.7, 35.7, 35.7,\n",
       "        35.7, 35.7, 35.7, 35.7, 35.7, 35.7],\n",
       "       [36.1, 36.1, 36.1, 36.1, 36.1, 36.1, 36.1, 36.1, 36.1, 36.1, 36.1,\n",
       "        36.1, 36.1, 36.1, 36.1, 36.1, 36.1, 36.1, 36.1, 36.1, 36.1, 36.1,\n",
       "        36.1, 36.1, 36.1, 36.1, 36.1, 36.1],\n",
       "       [36.5, 36.5, 36.5, 36.5, 36.5, 36.5, 36.5, 36.5, 36.5, 36.5, 36.5,\n",
       "        36.5, 36.5, 36.5, 36.5, 36.5, 36.5, 36.5, 36.5, 36.5, 36.5, 36.5,\n",
       "        36.5, 36.5, 36.5, 36.5, 36.5, 36.5],\n",
       "       [36.9, 36.9, 36.9, 36.9, 36.9, 36.9, 36.9, 36.9, 36.9, 36.9, 36.9,\n",
       "        36.9, 36.9, 36.9, 36.9, 36.9, 36.9, 36.9, 36.9, 36.9, 36.9, 36.9,\n",
       "...\n",
       "        42.9, 42.9, 42.9, 42.9, 42.9, 42.9, 42.9, 42.9, 42.9, 42.9, 42.9,\n",
       "        42.9, 42.9, 42.9, 42.9, 42.9, 42.9],\n",
       "       [43.3, 43.3, 43.3, 43.3, 43.3, 43.3, 43.3, 43.3, 43.3, 43.3, 43.3,\n",
       "        43.3, 43.3, 43.3, 43.3, 43.3, 43.3, 43.3, 43.3, 43.3, 43.3, 43.3,\n",
       "        43.3, 43.3, 43.3, 43.3, 43.3, 43.3],\n",
       "       [43.7, 43.7, 43.7, 43.7, 43.7, 43.7, 43.7, 43.7, 43.7, 43.7, 43.7,\n",
       "        43.7, 43.7, 43.7, 43.7, 43.7, 43.7, 43.7, 43.7, 43.7, 43.7, 43.7,\n",
       "        43.7, 43.7, 43.7, 43.7, 43.7, 43.7],\n",
       "       [44.1, 44.1, 44.1, 44.1, 44.1, 44.1, 44.1, 44.1, 44.1, 44.1, 44.1,\n",
       "        44.1, 44.1, 44.1, 44.1, 44.1, 44.1, 44.1, 44.1, 44.1, 44.1, 44.1,\n",
       "        44.1, 44.1, 44.1, 44.1, 44.1, 44.1],\n",
       "       [44.5, 44.5, 44.5, 44.5, 44.5, 44.5, 44.5, 44.5, 44.5, 44.5, 44.5,\n",
       "        44.5, 44.5, 44.5, 44.5, 44.5, 44.5, 44.5, 44.5, 44.5, 44.5, 44.5,\n",
       "        44.5, 44.5, 44.5, 44.5, 44.5, 44.5],\n",
       "       [44.9, 44.9, 44.9, 44.9, 44.9, 44.9, 44.9, 44.9, 44.9, 44.9, 44.9,\n",
       "        44.9, 44.9, 44.9, 44.9, 44.9, 44.9, 44.9, 44.9, 44.9, 44.9, 44.9,\n",
       "        44.9, 44.9, 44.9, 44.9, 44.9, 44.9],\n",
       "       [45.3, 45.3, 45.3, 45.3, 45.3, 45.3, 45.3, 45.3, 45.3, 45.3, 45.3,\n",
       "        45.3, 45.3, 45.3, 45.3, 45.3, 45.3, 45.3, 45.3, 45.3, 45.3, 45.3,\n",
       "        45.3, 45.3, 45.3, 45.3, 45.3, 45.3]])</pre></div></li></ul></div></li><li class='xr-section-item'><input id='section-b6146d86-32e7-4f06-b9f9-946b9b53ca77' class='xr-section-summary-in' type='checkbox' disabled ><label for='section-b6146d86-32e7-4f06-b9f9-946b9b53ca77' class='xr-section-summary'  title='Expand/collapse section'>Data variables: <span>(0)</span></label><div class='xr-section-inline-details'></div><div class='xr-section-details'><ul class='xr-var-list'></ul></div></li><li class='xr-section-item'><input id='section-71a72696-7bb7-4a66-9842-e4730da2226c' class='xr-section-summary-in' type='checkbox' disabled ><label for='section-71a72696-7bb7-4a66-9842-e4730da2226c' class='xr-section-summary'  title='Expand/collapse section'>Attributes: <span>(0)</span></label><div class='xr-section-inline-details'></div><div class='xr-section-details'><dl class='xr-attrs'></dl></div></li></ul></div></div>"
      ],
      "text/plain": [
       "<xarray.Dataset>\n",
       "Dimensions:  (y: 27, x: 27, y_b: 28, x_b: 28)\n",
       "Coordinates:\n",
       "    lon      (y, x) float64 -5.7 -5.1 -4.5 -3.9 -3.3 ... 7.5 8.1 8.7 9.3 9.9\n",
       "    lat      (y, x) float64 34.7 34.7 34.7 34.7 34.7 ... 45.1 45.1 45.1 45.1\n",
       "    lon_b    (y_b, x_b) float64 -6.0 -5.4 -4.8 -4.2 -3.6 ... 8.4 9.0 9.6 10.2\n",
       "    lat_b    (y_b, x_b) float64 34.5 34.5 34.5 34.5 34.5 ... 45.3 45.3 45.3 45.3\n",
       "Dimensions without coordinates: y, x, y_b, x_b\n",
       "Data variables:\n",
       "    *empty*"
      ]
     },
     "execution_count": 15,
     "metadata": {},
     "output_type": "execute_result"
    }
   ],
   "source": [
    "#= ds_in.assign_coords({'lon': (ds_in['lon'],{'long_name' : 'Longitude', 'units' : 'degree_north'})} )\n",
    "ds_out"
   ]
  },
  {
   "cell_type": "code",
   "execution_count": 16,
   "metadata": {},
   "outputs": [
    {
     "data": {
      "text/plain": [
       "(27, 27)"
      ]
     },
     "execution_count": 16,
     "metadata": {},
     "output_type": "execute_result"
    }
   ],
   "source": [
    "ds_out['mask']=xr.ones_like(ds_out['lon'])\n",
    "ds_out['mask'].data.shape"
   ]
  },
  {
   "cell_type": "code",
   "execution_count": 17,
   "metadata": {},
   "outputs": [
    {
     "name": "stdout",
     "output_type": "stream",
     "text": [
      "mask\n"
     ]
    }
   ],
   "source": [
    "print(ds_out['mask'].name)\n",
    "ds_in['mask'].name='mask'\n",
    "ds_out['mask'].data[0:3,:]=0\n",
    "ds_out['mask'].data[:,0:13]=0"
   ]
  },
  {
   "cell_type": "code",
   "execution_count": 18,
   "metadata": {
    "scrolled": true
   },
   "outputs": [
    {
     "data": {
      "text/plain": [
       "<matplotlib.collections.PathCollection at 0x2b74ac51bb80>"
      ]
     },
     "execution_count": 18,
     "metadata": {},
     "output_type": "execute_result"
    },
    {
     "data": {
      "image/png": "[encoded data removed]",
      "text/plain": [
       "<Figure size 432x288 with 2 Axes>"
      ]
     },
     "metadata": {
      "needs_background": "light"
     },
     "output_type": "display_data"
    }
   ],
   "source": [
    "ds_out['mask'].plot(x='lon',y='lat',cmap='binary_r')\n",
    "ax=plt.gca()\n",
    "ax.scatter( ds_out['lon'].where(ds_out['mask']), ds_out['lat'].where(ds_out['mask']), s=0.1)"
   ]
  },
  {
   "cell_type": "markdown",
   "metadata": {},
   "source": [
    "## Destination grid organized as C-contiguous"
   ]
  },
  {
   "cell_type": "code",
   "execution_count": 19,
   "metadata": {
    "scrolled": true
   },
   "outputs": [
    {
     "data": {
      "text/plain": [
       "  C_CONTIGUOUS : True\n",
       "  F_CONTIGUOUS : False\n",
       "  OWNDATA : True\n",
       "  WRITEABLE : True\n",
       "  ALIGNED : True\n",
       "  WRITEBACKIFCOPY : False\n",
       "  UPDATEIFCOPY : False"
      ]
     },
     "execution_count": 19,
     "metadata": {},
     "output_type": "execute_result"
    }
   ],
   "source": [
    "ds_out[\"lon\"].data.flags"
   ]
  },
  {
   "cell_type": "code",
   "execution_count": 20,
   "metadata": {},
   "outputs": [],
   "source": [
    "ds_out[\"lon\"].values=ds_out[\"lon\"].values.copy(order='F')\n",
    "ds_out[\"lat\"].values=ds_out[\"lat\"].values.copy(order='F')"
   ]
  },
  {
   "cell_type": "code",
   "execution_count": 21,
   "metadata": {
    "scrolled": true
   },
   "outputs": [
    {
     "data": {
      "text/plain": [
       "  C_CONTIGUOUS : False\n",
       "  F_CONTIGUOUS : True\n",
       "  OWNDATA : True\n",
       "  WRITEABLE : True\n",
       "  ALIGNED : True\n",
       "  WRITEBACKIFCOPY : False\n",
       "  UPDATEIFCOPY : False"
      ]
     },
     "execution_count": 21,
     "metadata": {},
     "output_type": "execute_result"
    }
   ],
   "source": [
    "ds_out[\"lon\"].data.flags"
   ]
  },
  {
   "cell_type": "markdown",
   "metadata": {},
   "source": [
    "# Triggering the computation of the interpolation weights\n",
    "<!-- Triggering-the-computation-of-the-interpolation-weights -->\n",
    "\n",
    "We trigger the computation of the weights using the frontend.py ```BaseRegridder class``` to construct the ```reggrider``` object (i.d., method ```__init__```) with arguments ```reuse_weights=False``` and ```weights=None```. We also provide a valid ```filename``` in order to save the interpolation weights to a netCDF file."
   ]
  },
  {
   "cell_type": "markdown",
   "metadata": {},
   "source": [
    "#### Defining a file name for saving the interpolation weights to a netCDF file"
   ]
  },
  {
   "cell_type": "code",
   "execution_count": 22,
   "metadata": {},
   "outputs": [
    {
     "name": "stdout",
     "output_type": "stream",
     "text": [
      "issue1_fix1_weights_bilinear_35x40_27x27.nc\n"
     ]
    }
   ],
   "source": [
    "ny_src,nx_src = ds_in[\"data2D\"].shape[0],ds_in[\"data2D\"].shape[1]\n",
    "ny_tgt_red,nx_tgt_red = ds_out['lon'].shape[0],ds_out['lon'].shape[1]\n",
    "method='bilinear'\n",
    "pattern='{0}_{1}x{2}_{3}x{4}'.format(\n",
    "            method,\n",
    "            ny_src,\n",
    "            nx_src,\n",
    "            ny_tgt_red,\n",
    "            nx_tgt_red)\n",
    "filout_wghts='issue1_fix1_weights_'+pattern+'.nc'\n",
    "print(filout_wghts)"
   ]
  },
  {
   "cell_type": "markdown",
   "metadata": {},
   "source": [
    "#### Regridder weights Failure with the original xesmf package\n",
    "\n",
    "<!--  Regridder-weights-Failure-with-the-original-xesmf-package -->"
   ]
  },
  {
   "cell_type": "raw",
   "metadata": {},
   "source": [
    "#### Error arising when computing the weights with the original xesmf package\n",
    "<!-- Error-arising-when-computing-the-weights-with-the-original-xesmf-package -->"
   ]
  },
  {
   "cell_type": "code",
   "execution_count": 23,
   "metadata": {
    "scrolled": true
   },
   "outputs": [
    {
     "name": "stderr",
     "output_type": "stream",
     "text": [
      "/users/p22007/p22007lb/.conda/envs/mydap-python-tools-3.9.5/lib/python3.9/site-packages/xesmf/backend.py:38: UserWarning: Input array is not F_CONTIGUOUS. Will affect performance.\n",
      "  warnings.warn('Input array is not F_CONTIGUOUS. ' 'Will affect performance.')\n"
     ]
    },
    {
     "ename": "AttributeError",
     "evalue": "'numpy.ndarray' object has no attribute 'to_scipy_sparse'",
     "output_type": "error",
     "traceback": [
      "\u001b[0;31m---------------------------------------------------------------------------\u001b[0m",
      "\u001b[0;31mAttributeError\u001b[0m                            Traceback (most recent call last)",
      "\u001b[0;32m<ipython-input-23-d69551b943b6>\u001b[0m in \u001b[0;36m<module>\u001b[0;34m\u001b[0m\n\u001b[0;32m----> 1\u001b[0;31m \u001b[0mreggrider\u001b[0m \u001b[0;34m=\u001b[0m \u001b[0mxe\u001b[0m\u001b[0;34m.\u001b[0m\u001b[0mRegridder\u001b[0m\u001b[0;34m(\u001b[0m\u001b[0mds_in\u001b[0m\u001b[0;34m,\u001b[0m\u001b[0mds_out\u001b[0m\u001b[0;34m,\u001b[0m \u001b[0mmethod\u001b[0m\u001b[0;34m=\u001b[0m\u001b[0;34m\"bilinear\"\u001b[0m\u001b[0;34m,\u001b[0m\u001b[0mextrap_method\u001b[0m\u001b[0;34m=\u001b[0m\u001b[0;34m'nearest_s2d'\u001b[0m\u001b[0;34m,\u001b[0m\u001b[0mweights\u001b[0m\u001b[0;34m=\u001b[0m\u001b[0;32mNone\u001b[0m\u001b[0;34m,\u001b[0m\u001b[0mfilename\u001b[0m\u001b[0;34m=\u001b[0m\u001b[0mfilout_wghts\u001b[0m\u001b[0;34m)\u001b[0m\u001b[0;34m\u001b[0m\u001b[0;34m\u001b[0m\u001b[0m\n\u001b[0m",
      "\u001b[0;32m~/.conda/envs/mydap-python-tools-3.9.5/lib/python3.9/site-packages/xesmf/frontend.py\u001b[0m in \u001b[0;36m__init__\u001b[0;34m(self, ds_in, ds_out, method, locstream_in, locstream_out, periodic, **kwargs)\u001b[0m\n\u001b[1;32m    777\u001b[0m \u001b[0;34m\u001b[0m\u001b[0m\n\u001b[1;32m    778\u001b[0m         \u001b[0;31m# Create the BaseRegridder\u001b[0m\u001b[0;34m\u001b[0m\u001b[0;34m\u001b[0m\u001b[0;34m\u001b[0m\u001b[0m\n\u001b[0;32m--> 779\u001b[0;31m         \u001b[0msuper\u001b[0m\u001b[0;34m(\u001b[0m\u001b[0;34m)\u001b[0m\u001b[0;34m.\u001b[0m\u001b[0m__init__\u001b[0m\u001b[0;34m(\u001b[0m\u001b[0mgrid_in\u001b[0m\u001b[0;34m,\u001b[0m \u001b[0mgrid_out\u001b[0m\u001b[0;34m,\u001b[0m \u001b[0mmethod\u001b[0m\u001b[0;34m,\u001b[0m \u001b[0minput_dims\u001b[0m\u001b[0;34m=\u001b[0m\u001b[0minput_dims\u001b[0m\u001b[0;34m,\u001b[0m \u001b[0;34m**\u001b[0m\u001b[0mkwargs\u001b[0m\u001b[0;34m)\u001b[0m\u001b[0;34m\u001b[0m\u001b[0;34m\u001b[0m\u001b[0m\n\u001b[0m\u001b[1;32m    780\u001b[0m \u001b[0;34m\u001b[0m\u001b[0m\n\u001b[1;32m    781\u001b[0m         \u001b[0;31m# record output grid and metadata\u001b[0m\u001b[0;34m\u001b[0m\u001b[0;34m\u001b[0m\u001b[0;34m\u001b[0m\u001b[0m\n",
      "\u001b[0;32m~/.conda/envs/mydap-python-tools-3.9.5/lib/python3.9/site-packages/xesmf/frontend.py\u001b[0m in \u001b[0;36m__init__\u001b[0;34m(self, grid_in, grid_out, method, filename, reuse_weights, extrap_method, extrap_dist_exponent, extrap_num_src_pnts, weights, ignore_degenerate, input_dims, unmapped_to_nan)\u001b[0m\n\u001b[1;32m    332\u001b[0m             \u001b[0;34m(\u001b[0m\u001b[0mself\u001b[0m\u001b[0;34m.\u001b[0m\u001b[0mgrid_out\u001b[0m\u001b[0;34m.\u001b[0m\u001b[0mmask\u001b[0m \u001b[0;32mis\u001b[0m \u001b[0;32mnot\u001b[0m \u001b[0;32mNone\u001b[0m\u001b[0;34m)\u001b[0m \u001b[0;32mand\u001b[0m \u001b[0;34m(\u001b[0m\u001b[0mself\u001b[0m\u001b[0;34m.\u001b[0m\u001b[0mgrid_out\u001b[0m\u001b[0;34m.\u001b[0m\u001b[0mmask\u001b[0m\u001b[0;34m[\u001b[0m\u001b[0;36m0\u001b[0m\u001b[0;34m]\u001b[0m \u001b[0;32mis\u001b[0m \u001b[0;32mnot\u001b[0m \u001b[0;32mNone\u001b[0m\u001b[0;34m)\u001b[0m\u001b[0;34m\u001b[0m\u001b[0;34m\u001b[0m\u001b[0m\n\u001b[1;32m    333\u001b[0m         ) or unmapped_to_nan is True:\n\u001b[0;32m--> 334\u001b[0;31m             \u001b[0mself\u001b[0m\u001b[0;34m.\u001b[0m\u001b[0mweights\u001b[0m \u001b[0;34m=\u001b[0m \u001b[0madd_nans_to_weights\u001b[0m\u001b[0;34m(\u001b[0m\u001b[0mself\u001b[0m\u001b[0;34m.\u001b[0m\u001b[0mweights\u001b[0m\u001b[0;34m)\u001b[0m\u001b[0;34m\u001b[0m\u001b[0;34m\u001b[0m\u001b[0m\n\u001b[0m\u001b[1;32m    335\u001b[0m \u001b[0;34m\u001b[0m\u001b[0m\n\u001b[1;32m    336\u001b[0m         \u001b[0;31m# follows legacy logic of writing weights if filename is provided\u001b[0m\u001b[0;34m\u001b[0m\u001b[0;34m\u001b[0m\u001b[0;34m\u001b[0m\u001b[0m\n",
      "\u001b[0;32m~/.conda/envs/mydap-python-tools-3.9.5/lib/python3.9/site-packages/xesmf/smm.py\u001b[0m in \u001b[0;36madd_nans_to_weights\u001b[0;34m(weights)\u001b[0m\n\u001b[1;32m    219\u001b[0m     \u001b[0;31m# Taken from @trondkr and adapted by @raphaeldussin to use `lil`.\u001b[0m\u001b[0;34m\u001b[0m\u001b[0;34m\u001b[0m\u001b[0;34m\u001b[0m\u001b[0m\n\u001b[1;32m    220\u001b[0m     \u001b[0;31m# lil matrix is better than CSR when changing sparsity\u001b[0m\u001b[0;34m\u001b[0m\u001b[0;34m\u001b[0m\u001b[0;34m\u001b[0m\u001b[0m\n\u001b[0;32m--> 221\u001b[0;31m     \u001b[0mm\u001b[0m \u001b[0;34m=\u001b[0m \u001b[0mweights\u001b[0m\u001b[0;34m.\u001b[0m\u001b[0mdata\u001b[0m\u001b[0;34m.\u001b[0m\u001b[0mto_scipy_sparse\u001b[0m\u001b[0;34m(\u001b[0m\u001b[0;34m)\u001b[0m\u001b[0;34m.\u001b[0m\u001b[0mtolil\u001b[0m\u001b[0;34m(\u001b[0m\u001b[0;34m)\u001b[0m\u001b[0;34m\u001b[0m\u001b[0;34m\u001b[0m\u001b[0m\n\u001b[0m\u001b[1;32m    222\u001b[0m     \u001b[0;31m# replace empty rows by one NaN value at element 0 (arbitrary)\u001b[0m\u001b[0;34m\u001b[0m\u001b[0;34m\u001b[0m\u001b[0;34m\u001b[0m\u001b[0m\n\u001b[1;32m    223\u001b[0m     \u001b[0;31m# so that remapped element become NaN instead of zero\u001b[0m\u001b[0;34m\u001b[0m\u001b[0;34m\u001b[0m\u001b[0;34m\u001b[0m\u001b[0m\n",
      "\u001b[0;31mAttributeError\u001b[0m: 'numpy.ndarray' object has no attribute 'to_scipy_sparse'"
     ]
    }
   ],
   "source": [
    "reggrider = xe.Regridder(ds_in,ds_out, method=\"bilinear\",extrap_method='nearest_s2d',weights=None,filename=filout_wghts)"
   ]
  },
  {
   "cell_type": "markdown",
   "metadata": {},
   "source": [
    "## Regridder Failure arise in the function which replaces zeros by NaNs for unmapped grid points\n",
    "\n",
    "<!-- Regridder-Failure-arise-in-the-function-which-replaces-zeros-by-NaNs-for-unmapped-grid-points -->\n",
    "\n",
    "**The error is**\n",
    "\n",
    "```AttributeError: 'numpy.ndarray' object has no attribute 'to_scipy_sparse'```\n",
    "\n",
    "**It occurs occurs in xesmf/smm.py line 221 :**\n",
    "\n",
    "```python\n",
    "m = weights.data.to_scipy_sparse().tolil()\n",
    "```\n",
    "\n",
    "The variable ```weights.data``` holds the interpolation weights calculated by the ```esmpy/ESMF``` backend . \n",
    "It is a 2D matrix mapping the source grid onto the destination grid. This matrix is a sparse matrix and benefits to be represented as such to save Memory (only non-null elements saved in memory). The ```AttributeError``` occurs line 221 within smm.py because: (i) ```xarray``` does not handle the sparse object correctly, and (ii) ```xesmf``` package tends to wrap up numpy arrays and/or sparse or scipy sparse matrix into ```xarray.DataArray``` (or xarray.Dataset). At line 221 in smm.py, the variable ```weights``` is under the wood, a ```sparse.COO``` object (i.e., multi-dimensional sparse array) *previously wrapped up into* an ```xarray.DataArray```. Unfortunatly, when ```xarray``` wraps up such sparse object, it loads the full matrix size as a simple ```numpy.ndarray``` which consumes a lot of Memory.\n",
    "     \n",
    "I introduced the following [\"**fix**\"](#Proposed-fix-to-issue-1) which enables **to convert back the numpy.ndarray back to the ```sparse.COO``` format**, here, sps.COO (and finally this enables to convert to the ```lil_array``` format of the ```scipy.sparse``` python module (itself further used to change to NaN the masked values set to zero by ESMF) :\n",
    "          \n",
    "```python\n",
    "m = sps.COO.from_numpy(weights.data).to_scipy_sparse().tolil()\n",
    "```\n",
    "\n",
    "However **this fix does not solve the bottleneck with ```xarray``` package not being able to handle sparse array representation**. This is **especially an issue for large size problems** (real world)."
   ]
  },
  {
   "cell_type": "markdown",
   "metadata": {},
   "source": [
    "**Original xesmf pacakage : smm.py source before fix**"
   ]
  },
  {
   "cell_type": "code",
   "execution_count": 24,
   "metadata": {},
   "outputs": [],
   "source": [
    "# %load -r 201-229 /users/p22007/p22007lb/.conda/envs/mydap-python-tools-3.9.5/lib/python3.9/site-packages/xesmf/smm.py\n",
    "def add_nans_to_weights(weights):\n",
    "    \"\"\"Add NaN in empty rows of the regridding weights sparse matrix.\n",
    "\n",
    "    By default, empty rows in the weights sparse matrix are interpreted as zeroes. This can become problematic\n",
    "    when the field being interpreted has legitimate null values. This function inserts NaN values in each row to\n",
    "    make sure empty weights are propagated as NaNs instead of zeros.\n",
    "\n",
    "    Parameters\n",
    "    ----------\n",
    "    weights : DataArray backed by a sparse.COO array\n",
    "      Sparse weights matrix.\n",
    "\n",
    "    Returns\n",
    "    -------\n",
    "    DataArray backed by a sparse.COO array\n",
    "      Sparse weights matrix.\n",
    "    \"\"\"\n",
    "\n",
    "    # Taken from @trondkr and adapted by @raphaeldussin to use `lil`.\n",
    "    # lil matrix is better than CSR when changing sparsity\n",
    "    m = weights.data.to_scipy_sparse().tolil()\n",
    "    # replace empty rows by one NaN value at element 0 (arbitrary)\n",
    "    # so that remapped element become NaN instead of zero\n",
    "    for krow in range(len(m.rows)):\n",
    "        m.rows[krow] = [0] if m.rows[krow] == [] else m.rows[krow]\n",
    "        m.data[krow] = [np.NaN] if m.data[krow] == [] else m.data[krow]\n",
    "    # update regridder weights (in COO)\n",
    "    weights = weights.copy(data=sps.COO.from_scipy_sparse(m))\n",
    "    return weights"
   ]
  },
  {
   "cell_type": "code",
   "execution_count": 25,
   "metadata": {},
   "outputs": [
    {
     "data": {
      "text/plain": [
       "['/users/p22007/p22007lb/.conda/envs/mydap-python-tools-3.9.5/lib/python3.9/site-packages/xesmf/smm.py']"
      ]
     },
     "execution_count": 25,
     "metadata": {},
     "output_type": "execute_result"
    }
   ],
   "source": [
    "!!ls /users/p22007/p22007lb/.conda/envs/mydap-python-tools-3.9.5/lib/python3.9/site-packages/xesmf/smm.py"
   ]
  },
  {
   "cell_type": "code",
   "execution_count": 26,
   "metadata": {},
   "outputs": [],
   "source": [
    "#%pycat 201-229 '/users/p22007/p22007lb/.conda/envs/mydap-python-tools-3.9.5/lib/python3.9/site-packages/xesmf/smm.py'"
   ]
  },
  {
   "cell_type": "markdown",
   "metadata": {},
   "source": [
    "## Proposed fix to issue 1\n",
    "<!-- Proposed-fix-to-issue-1 -->\n",
    "\n",
    "```xe.xesmf_fix``` package with modified smm.py source"
   ]
  },
  {
   "cell_type": "code",
   "execution_count": 27,
   "metadata": {},
   "outputs": [],
   "source": [
    "# %load -r 201-229 /users/p22007/p22007lb/.conda/envs/mydap-python-tools-3.9.5/lib/python3.9/site-packages/xesmf/xesmf_fix1/smm.py\n",
    "def add_nans_to_weights(weights):\n",
    "    \"\"\"Add NaN in empty rows of the regridding weights sparse matrix.\n",
    "\n",
    "    By default, empty rows in the weights sparse matrix are interpreted as zeroes. This can become problematic\n",
    "    when the field being interpreted has legitimate null values. This function inserts NaN values in each row to\n",
    "    make sure empty weights are propagated as NaNs instead of zeros.\n",
    "\n",
    "    Parameters\n",
    "    ----------\n",
    "    weights : DataArray backed by a sparse.COO array\n",
    "      Sparse weights matrix.\n",
    "\n",
    "    Returns\n",
    "    -------\n",
    "    DataArray backed by a sparse.COO array\n",
    "      Sparse weights matrix.\n",
    "    \"\"\"\n",
    "\n",
    "    # Taken from @trondkr and adapted by @raphaeldussin to use `lil`.\n",
    "    # lil matrix is better than CSR when changing sparsity\n",
    "    # m = weights.data.to_scipy_sparse().tolil()\n",
    "    m = sps.COO.from_numpy(weights.data).to_scipy_sparse().tolil()\n",
    "    # replace empty rows by one NaN value at element 0 (arbitrary)\n",
    "    # so that remapped element become NaN instead of zero\n",
    "    for krow in range(len(m.rows)):\n",
    "        m.rows[krow] = [0] if m.rows[krow] == [] else m.rows[krow]\n",
    "        m.data[krow] = [np.NaN] if m.data[krow] == [] else m.data[krow]\n",
    "    # update regridder weights (in COO)\n",
    "    weights = weights.copy(data=sps.COO.from_scipy_sparse(m))"
   ]
  },
  {
   "cell_type": "markdown",
   "metadata": {},
   "source": [
    "# Issue2\n",
    "\n",
    "## Triggering again the computation of the interpolation weights with fix to issue1\n",
    "<!-- Triggering-again-the-computation-of-the-interpolation-weights-with-fix-to-issue1 -->\n",
    "\n",
    "We trigger again the computation of the weights using the frontend.py ```BaseRegridder class``` to construct the ```reggrider``` object with the exact same arguments ```reuse_weights=False```, ```weights=None```, and a valid ```filename``` in order to save the interpolation weights to a netCDF file."
   ]
  },
  {
   "cell_type": "markdown",
   "metadata": {},
   "source": [
    "## Applying the fix to issue1\n",
    "\n",
    "### Loading the modified xesmf package with fix to issue1"
   ]
  },
  {
   "cell_type": "code",
   "execution_count": 28,
   "metadata": {},
   "outputs": [],
   "source": [
    "import xesmf.xesmf_fix1 as xe"
   ]
  },
  {
   "cell_type": "markdown",
   "metadata": {},
   "source": [
    "### Launching again the regridding with the modified xesmf package having fix to issue1\n",
    "\n",
    "<!-- Launching-again-the-regridding-with-the-modified-xesmf-package-having-fix-to-issue1 -->\n",
    "\n",
    "#### Regridder weights Failure with the modified xesmf package having fix to issue1\n",
    "\n",
    "<!--  Regridder-weights-Failure-with-the-modified-xesmf-package-having-fix-to-issue1 -->"
   ]
  },
  {
   "cell_type": "code",
   "execution_count": 29,
   "metadata": {
    "scrolled": true
   },
   "outputs": [
    {
     "name": "stderr",
     "output_type": "stream",
     "text": [
      "/users/p22007/p22007lb/.conda/envs/mydap-python-tools-3.9.5/lib/python3.9/site-packages/xesmf/xesmf_fix1/backend.py:38: UserWarning: Input array is not F_CONTIGUOUS. Will affect performance.\n",
      "  warnings.warn('Input array is not F_CONTIGUOUS. ' 'Will affect performance.')\n"
     ]
    },
    {
     "ename": "AttributeError",
     "evalue": "'numpy.ndarray' object has no attribute 'coords'",
     "output_type": "error",
     "traceback": [
      "\u001b[0;31m---------------------------------------------------------------------------\u001b[0m",
      "\u001b[0;31mAttributeError\u001b[0m                            Traceback (most recent call last)",
      "\u001b[0;32m<ipython-input-29-d69551b943b6>\u001b[0m in \u001b[0;36m<module>\u001b[0;34m\u001b[0m\n\u001b[0;32m----> 1\u001b[0;31m \u001b[0mreggrider\u001b[0m \u001b[0;34m=\u001b[0m \u001b[0mxe\u001b[0m\u001b[0;34m.\u001b[0m\u001b[0mRegridder\u001b[0m\u001b[0;34m(\u001b[0m\u001b[0mds_in\u001b[0m\u001b[0;34m,\u001b[0m\u001b[0mds_out\u001b[0m\u001b[0;34m,\u001b[0m \u001b[0mmethod\u001b[0m\u001b[0;34m=\u001b[0m\u001b[0;34m\"bilinear\"\u001b[0m\u001b[0;34m,\u001b[0m\u001b[0mextrap_method\u001b[0m\u001b[0;34m=\u001b[0m\u001b[0;34m'nearest_s2d'\u001b[0m\u001b[0;34m,\u001b[0m\u001b[0mweights\u001b[0m\u001b[0;34m=\u001b[0m\u001b[0;32mNone\u001b[0m\u001b[0;34m,\u001b[0m\u001b[0mfilename\u001b[0m\u001b[0;34m=\u001b[0m\u001b[0mfilout_wghts\u001b[0m\u001b[0;34m)\u001b[0m\u001b[0;34m\u001b[0m\u001b[0;34m\u001b[0m\u001b[0m\n\u001b[0m",
      "\u001b[0;32m~/.conda/envs/mydap-python-tools-3.9.5/lib/python3.9/site-packages/xesmf/xesmf_fix1/frontend.py\u001b[0m in \u001b[0;36m__init__\u001b[0;34m(self, ds_in, ds_out, method, locstream_in, locstream_out, periodic, **kwargs)\u001b[0m\n\u001b[1;32m    777\u001b[0m \u001b[0;34m\u001b[0m\u001b[0m\n\u001b[1;32m    778\u001b[0m         \u001b[0;31m# Create the BaseRegridder\u001b[0m\u001b[0;34m\u001b[0m\u001b[0;34m\u001b[0m\u001b[0;34m\u001b[0m\u001b[0m\n\u001b[0;32m--> 779\u001b[0;31m         \u001b[0msuper\u001b[0m\u001b[0;34m(\u001b[0m\u001b[0;34m)\u001b[0m\u001b[0;34m.\u001b[0m\u001b[0m__init__\u001b[0m\u001b[0;34m(\u001b[0m\u001b[0mgrid_in\u001b[0m\u001b[0;34m,\u001b[0m \u001b[0mgrid_out\u001b[0m\u001b[0;34m,\u001b[0m \u001b[0mmethod\u001b[0m\u001b[0;34m,\u001b[0m \u001b[0minput_dims\u001b[0m\u001b[0;34m=\u001b[0m\u001b[0minput_dims\u001b[0m\u001b[0;34m,\u001b[0m \u001b[0;34m**\u001b[0m\u001b[0mkwargs\u001b[0m\u001b[0;34m)\u001b[0m\u001b[0;34m\u001b[0m\u001b[0;34m\u001b[0m\u001b[0m\n\u001b[0m\u001b[1;32m    780\u001b[0m \u001b[0;34m\u001b[0m\u001b[0m\n\u001b[1;32m    781\u001b[0m         \u001b[0;31m# record output grid and metadata\u001b[0m\u001b[0;34m\u001b[0m\u001b[0;34m\u001b[0m\u001b[0;34m\u001b[0m\u001b[0m\n",
      "\u001b[0;32m~/.conda/envs/mydap-python-tools-3.9.5/lib/python3.9/site-packages/xesmf/xesmf_fix1/frontend.py\u001b[0m in \u001b[0;36m__init__\u001b[0;34m(self, grid_in, grid_out, method, filename, reuse_weights, extrap_method, extrap_dist_exponent, extrap_num_src_pnts, weights, ignore_degenerate, input_dims, unmapped_to_nan)\u001b[0m\n\u001b[1;32m    336\u001b[0m         \u001b[0;31m# follows legacy logic of writing weights if filename is provided\u001b[0m\u001b[0;34m\u001b[0m\u001b[0;34m\u001b[0m\u001b[0;34m\u001b[0m\u001b[0m\n\u001b[1;32m    337\u001b[0m         \u001b[0;32mif\u001b[0m \u001b[0mfilename\u001b[0m \u001b[0;32mis\u001b[0m \u001b[0;32mnot\u001b[0m \u001b[0;32mNone\u001b[0m \u001b[0;32mand\u001b[0m \u001b[0;32mnot\u001b[0m \u001b[0mreuse_weights\u001b[0m\u001b[0;34m:\u001b[0m\u001b[0;34m\u001b[0m\u001b[0;34m\u001b[0m\u001b[0m\n\u001b[0;32m--> 338\u001b[0;31m             \u001b[0mself\u001b[0m\u001b[0;34m.\u001b[0m\u001b[0mto_netcdf\u001b[0m\u001b[0;34m(\u001b[0m\u001b[0mfilename\u001b[0m\u001b[0;34m=\u001b[0m\u001b[0mfilename\u001b[0m\u001b[0;34m)\u001b[0m\u001b[0;34m\u001b[0m\u001b[0;34m\u001b[0m\u001b[0m\n\u001b[0m\u001b[1;32m    339\u001b[0m \u001b[0;34m\u001b[0m\u001b[0m\n\u001b[1;32m    340\u001b[0m         \u001b[0;31m# set default weights filename if none given\u001b[0m\u001b[0;34m\u001b[0m\u001b[0;34m\u001b[0m\u001b[0;34m\u001b[0m\u001b[0m\n",
      "\u001b[0;32m~/.conda/envs/mydap-python-tools-3.9.5/lib/python3.9/site-packages/xesmf/xesmf_fix1/frontend.py\u001b[0m in \u001b[0;36mto_netcdf\u001b[0;34m(self, filename)\u001b[0m\n\u001b[1;32m    640\u001b[0m         \u001b[0mdim\u001b[0m \u001b[0;34m=\u001b[0m \u001b[0;34m'n_s'\u001b[0m\u001b[0;34m\u001b[0m\u001b[0;34m\u001b[0m\u001b[0m\n\u001b[1;32m    641\u001b[0m         ds = xr.Dataset(\n\u001b[0;32m--> 642\u001b[0;31m             \u001b[0;34m{\u001b[0m\u001b[0;34m'S'\u001b[0m\u001b[0;34m:\u001b[0m \u001b[0;34m(\u001b[0m\u001b[0mdim\u001b[0m\u001b[0;34m,\u001b[0m \u001b[0mw\u001b[0m\u001b[0;34m.\u001b[0m\u001b[0mdata\u001b[0m\u001b[0;34m)\u001b[0m\u001b[0;34m,\u001b[0m \u001b[0;34m'col'\u001b[0m\u001b[0;34m:\u001b[0m \u001b[0;34m(\u001b[0m\u001b[0mdim\u001b[0m\u001b[0;34m,\u001b[0m \u001b[0mw\u001b[0m\u001b[0;34m.\u001b[0m\u001b[0mcoords\u001b[0m\u001b[0;34m[\u001b[0m\u001b[0;36m1\u001b[0m\u001b[0;34m,\u001b[0m \u001b[0;34m:\u001b[0m\u001b[0;34m]\u001b[0m \u001b[0;34m+\u001b[0m \u001b[0;36m1\u001b[0m\u001b[0;34m)\u001b[0m\u001b[0;34m,\u001b[0m \u001b[0;34m'row'\u001b[0m\u001b[0;34m:\u001b[0m \u001b[0;34m(\u001b[0m\u001b[0mdim\u001b[0m\u001b[0;34m,\u001b[0m \u001b[0mw\u001b[0m\u001b[0;34m.\u001b[0m\u001b[0mcoords\u001b[0m\u001b[0;34m[\u001b[0m\u001b[0;36m0\u001b[0m\u001b[0;34m,\u001b[0m \u001b[0;34m:\u001b[0m\u001b[0;34m]\u001b[0m \u001b[0;34m+\u001b[0m \u001b[0;36m1\u001b[0m\u001b[0;34m)\u001b[0m\u001b[0;34m}\u001b[0m\u001b[0;34m\u001b[0m\u001b[0;34m\u001b[0m\u001b[0m\n\u001b[0m\u001b[1;32m    643\u001b[0m         )\n\u001b[1;32m    644\u001b[0m         \u001b[0mds\u001b[0m\u001b[0;34m.\u001b[0m\u001b[0mto_netcdf\u001b[0m\u001b[0;34m(\u001b[0m\u001b[0mfilename\u001b[0m\u001b[0;34m)\u001b[0m\u001b[0;34m\u001b[0m\u001b[0;34m\u001b[0m\u001b[0m\n",
      "\u001b[0;31mAttributeError\u001b[0m: 'numpy.ndarray' object has no attribute 'coords'"
     ]
    }
   ],
   "source": [
    "reggrider = xe.Regridder(ds_in,ds_out, method=\"bilinear\",extrap_method='nearest_s2d',weights=None,filename=filout_wghts)"
   ]
  },
  {
   "cell_type": "markdown",
   "metadata": {},
   "source": [
    "## Regridder Failure when saving the weights to a netCDF file\n",
    "\n",
    "<!-- Regridder-Failure-when-saving-the-weights-to-a-netCDF-file -->\n",
    "\n",
    "in the ```Class BasicRegridder``` method ```to_netcdf```\n",
    "\n",
    "**The error is :**\n",
    "\n",
    "```AttributeError: 'numpy.ndarray' object has no attribute 'coords'```\n",
    "\n",
    "**It occurs occurs in xesmf/frontend.py line 644 when applying the ```Class BasicRegridder``` method ```to_netcdf```:**\n",
    "   \n",
    "```python\n",
    "   w = self.weights.data\n",
    "   dim = 'n_s'\n",
    "   ds = xr.Dataset(\n",
    "       {'S': (dim, w.data), 'col': (dim, w.coords[1, :] + 1), 'row': (dim, w.coords[0, :] + 1)}\n",
    "        )\n",
    "```\n",
    "\n",
    "This issue [is similar to Issue1 and the same type of fix can be applied](#Regridder-Failure-arise-in-the-function-which-replaces-zeros-by-NaNs-for-unmapped-grid-points). Again the ```xarray.DataArray``` variable ```self.weights``` backed by a ```sparse.COO object``` (the interpolation weights matrix) loads the full weight matrix because ```xarray``` only sees a ```numpy.ndarray``` and cannot understand that the is under the wood a ```sparse.COO``` object. The \"fix\" consists again in converting back the wrapped ```numpy.ndarray``` ```self.weights.data``` to a ```sparse.COO``` array object :\n",
    "     \n",
    "```python\n",
    "   w=sps.COO.from_numpy( self.weights.data )\n",
    "   dim = 'n_s'\n",
    "   ds = xr.Dataset(\n",
    "       {'S': (dim, w.data), 'col': (dim, w.coords[1, :] + 1), 'row': (dim, w.coords[0, :] + 1)}\n",
    "        )\n",
    "```\n",
    "It also requires to ```import sparse``` in the frontend.py source.\n",
    "\n",
    "Again, these fixes are not statisfying in the sense that they do not solve the main issue caused by ```xarray``` being enable to see the reduced size of the ```sparse.COO``` weight matrix. This triggers the use of the full size weight matrix and consumes memory that could be saved. \n",
    "      \n",
    "**This fix does not solve the bottleneck with ```xarray``` package not being able to handle sparse array representation**. This is **especially an issue for large size problems** (real world). We This makes the transition to the second type of issues : large regridding problem."
   ]
  },
  {
   "cell_type": "markdown",
   "metadata": {},
   "source": [
    "**BEFORE fix to Issue2 : frontend.py source where the ```Class BasicRegridder``` method ```to_netcdf``` is defined**"
   ]
  },
  {
   "cell_type": "code",
   "execution_count": 30,
   "metadata": {},
   "outputs": [],
   "source": [
    "# %load -r 635-645 /users/p22007/p22007lb/.conda/envs/mydap-python-tools-3.9.5/lib/python3.9/site-packages/xesmf/xesmf_fix1/frontend.py\n",
    "def to_netcdf(self, filename=None):\n",
    "    \"\"\"Save weights to disk as a netCDF file.\"\"\"\n",
    "    if filename is None:\n",
    "        filename = self.filename\n",
    "    w = self.weights.data\n",
    "    dim = 'n_s'\n",
    "    ds = xr.Dataset(\n",
    "        {'S': (dim, w.data), 'col': (dim, w.coords[1, :] + 1), 'row': (dim, w.coords[0, :] + 1)}\n",
    "    )\n",
    "    ds.to_netcdf(filename)\n",
    "    return filename"
   ]
  },
  {
   "cell_type": "markdown",
   "metadata": {},
   "source": [
    "## Proposed fix the Issue2\n",
    "<!-- Proposed-fix-the-Issue2 -->"
   ]
  },
  {
   "cell_type": "code",
   "execution_count": 31,
   "metadata": {},
   "outputs": [],
   "source": [
    "# %load -r 636-647 /users/p22007/p22007lb/.conda/envs/mydap-python-tools-3.9.5/lib/python3.9/site-packages/xesmf/xesmf_fix2/frontend.py\n",
    "def to_netcdf(self, filename=None):\n",
    "    \"\"\"Save weights to disk as a netCDF file.\"\"\"\n",
    "    if filename is None:\n",
    "        filename = self.filename\n",
    "    #w = self.weights.data\n",
    "    w=sps.COO.from_numpy( self.weights.data )\n",
    "    dim = 'n_s'\n",
    "    ds = xr.Dataset(\n",
    "        {'S': (dim, w.data), 'col': (dim, w.coords[1, :] + 1), 'row': (dim, w.coords[0, :] + 1)}\n",
    "    )\n",
    "    ds.to_netcdf(filename)\n",
    "    return filename"
   ]
  },
  {
   "cell_type": "code",
   "execution_count": 32,
   "metadata": {},
   "outputs": [],
   "source": [
    "# %load -r 11-11 /users/p22007/p22007lb/.conda/envs/mydap-python-tools-3.9.5/lib/python3.9/site-packages/xesmf/xesmf_fix2/frontend.py\n",
    "import sparse as sps"
   ]
  },
  {
   "cell_type": "markdown",
   "metadata": {},
   "source": [
    "# Triggering again the computation of the weights with fixes to issue1 and 2\n",
    "\n",
    "<!-- Triggering-again-the-computation-of-the-weights-with-fixes-to-issue1-and-2 -->\n",
    "\n",
    "We trigger again the computation of the weights using the frontend.py ```BaseRegridder class``` to construct the ```reggrider``` object with the exact same arguments ```reuse_weights=False```, ```weights=None```, and a valid ```filename``` in order to save the interpolation weights to a netCDF file."
   ]
  },
  {
   "cell_type": "markdown",
   "metadata": {},
   "source": [
    "## Applying the fix to issue2\n",
    "\n",
    "### Loading the modified xesmf package with fix to issue1 and 2"
   ]
  },
  {
   "cell_type": "code",
   "execution_count": 33,
   "metadata": {},
   "outputs": [],
   "source": [
    "import xesmf.xesmf_fix2 as xe"
   ]
  },
  {
   "cell_type": "markdown",
   "metadata": {},
   "source": [
    "### Launching again the regridding with the modified xesmf package having fixes to issue1 and 2\n",
    "\n",
    "<!-- Launching-again-the-regridding-with-the-modified-xesmf-package-having-fixes-to-issue1-and-2 -->\n",
    "\n",
    "#### Regridder success with fixes to issue1 and 2\n",
    "\n",
    "<!--  Regridder-success-with-fixes-to-issue1-and-2 -->"
   ]
  },
  {
   "cell_type": "code",
   "execution_count": 34,
   "metadata": {
    "scrolled": true
   },
   "outputs": [
    {
     "name": "stderr",
     "output_type": "stream",
     "text": [
      "/users/p22007/p22007lb/.conda/envs/mydap-python-tools-3.9.5/lib/python3.9/site-packages/xesmf/xesmf_fix2/backend.py:38: UserWarning: Input array is not F_CONTIGUOUS. Will affect performance.\n",
      "  warnings.warn('Input array is not F_CONTIGUOUS. ' 'Will affect performance.')\n"
     ]
    }
   ],
   "source": [
    "reggrider = xe.Regridder(ds_in,ds_out, method=\"bilinear\",extrap_method='nearest_s2d',weights=None,filename=filout_wghts)"
   ]
  },
  {
   "cell_type": "markdown",
   "metadata": {},
   "source": [
    "## Success with fixes to issue1 and 2\n",
    "\n",
    "### Maps-of-Regridded-data-with-fixes-to-issue1-and-2"
   ]
  },
  {
   "cell_type": "code",
   "execution_count": 35,
   "metadata": {
    "scrolled": true
   },
   "outputs": [
    {
     "name": "stderr",
     "output_type": "stream",
     "text": [
      "/users/p22007/p22007lb/.conda/envs/mydap-python-tools-3.9.5/lib/python3.9/site-packages/xesmf/xesmf_fix2/smm.py:130: UserWarning: Input array is not C_CONTIGUOUS. Will affect performance.\n",
      "  warnings.warn('Input array is not C_CONTIGUOUS. ' 'Will affect performance.')\n"
     ]
    }
   ],
   "source": [
    "ds_out[\"data2D\"]=reggrider(ds_in[\"data2D\"])"
   ]
  },
  {
   "cell_type": "code",
   "execution_count": 39,
   "metadata": {},
   "outputs": [
    {
     "data": {
      "text/plain": [
       "[Text(0.5, 1.0, 'Data interpolated on the destination grid (with mask)')]"
      ]
     },
     "execution_count": 39,
     "metadata": {},
     "output_type": "execute_result"
    },
    {
     "data": {
      "image/png": "[encoded data removed]",
      "text/plain": [
       "<Figure size 432x288 with 2 Axes>"
      ]
     },
     "metadata": {
      "needs_background": "light"
     },
     "output_type": "display_data"
    }
   ],
   "source": [
    "ds_in[\"data2D\"].where(ds_in[\"mask\"]==1).plot(x='lon',y='lat')\n",
    "ax=plt.gca()\n",
    "ax.set(title=\"Data interpolated on the destination grid (with mask)\")"
   ]
  },
  {
   "cell_type": "code",
   "execution_count": 40,
   "metadata": {
    "scrolled": true
   },
   "outputs": [
    {
     "data": {
      "text/plain": [
       "[Text(0.5, 1.0, 'Data on the original grid (with mask)')]"
      ]
     },
     "execution_count": 40,
     "metadata": {},
     "output_type": "execute_result"
    },
    {
     "data": {
      "image/png": "[encoded data removed]",
      "text/plain": [
       "<Figure size 432x288 with 2 Axes>"
      ]
     },
     "metadata": {
      "needs_background": "light"
     },
     "output_type": "display_data"
    }
   ],
   "source": [
    "ds_out[\"data2D\"].plot(x='lon',y='lat')\n",
    "ax=plt.gca()\n",
    "ax.set(title=\"Data on the original grid (with mask)\")"
   ]
  },
  {
   "cell_type": "markdown",
   "metadata": {},
   "source": [
    "# CONCLUSION AND NEW TESTS WITH LARGE SCALE PROBLEM"
   ]
  },
  {
   "cell_type": "markdown",
   "metadata": {},
   "source": [
    "**The fixes to Issue1 and Issue2 does not solve the bottleneck with ```xarray``` package not being able to handle sparse array representation**. This is **especially an issue for large size problems** (real world). This makes the transition to the second type of issues : large regridding problem."
   ]
  },
  {
   "cell_type": "code",
   "execution_count": null,
   "metadata": {},
   "outputs": [],
   "source": []
  },
  {
   "cell_type": "code",
   "execution_count": null,
   "metadata": {},
   "outputs": [],
   "source": []
  }
 ],
 "metadata": {
  "kernelspec": {
   "display_name": "Python 3",
   "language": "python",
   "name": "python3"
  },
  "language_info": {
   "codemirror_mode": {
    "name": "ipython",
    "version": 3
   },
   "file_extension": ".py",
   "mimetype": "text/x-python",
   "name": "python",
   "nbconvert_exporter": "python",
   "pygments_lexer": "ipython3",
   "version": "3.9.5"
  },
  "toc": {
   "nav_menu": {},
   "number_sections": true,
   "sideBar": true,
   "skip_h1_title": false,
   "toc_cell": false,
   "toc_position": {},
   "toc_section_display": "block",
   "toc_window_display": false
  }
 },
 "nbformat": 4,
 "nbformat_minor": 2
}
